{
 "cells": [
  {
   "cell_type": "code",
   "execution_count": 12,
   "metadata": {},
   "outputs": [
    {
     "name": "stdout",
     "output_type": "stream",
     "text": [
      "Enter the credit card number: 4388576018402626\n",
      "The card number 4388576018402626 is not valid\n"
     ]
    }
   ],
   "source": [
    "def main():\n",
    "    card_number = int(input(\"Enter the credit card number: \"))\n",
    "    double_even_digits = sumDoubleEvenLocation(card_number)\n",
    "    even = getDigit(double_even_digits)\n",
    "    odd = sumOddLocation(card_number)\n",
    "    total = total_sum(even, odd)\n",
    "    result = isValid(card_number, total)\n",
    "    if result:\n",
    "        print('The card number {} is valid'.format(card_number))\n",
    "    else:\n",
    "        print('The card number {} is not valid'.format(card_number))\n",
    "\n",
    "           \n",
    "def isValid(card_number, total):\n",
    "    if getSize(card_number) >= 13 and getSize(card_number) <= 16 and total % 10 == 0:\n",
    "        if isPrefix(card_number, 4) or isPrefix(card_number, 5) or isPrefix(card_number, 6)  or isPrefix(card_number, 37): \n",
    "            return True\n",
    "        else:\n",
    "            return False\n",
    "    \n",
    "def sumDoubleEvenLocation(card_number):\n",
    "    card_num = [int(i) for i in str(card_number)]\n",
    "    even_digits = card_num[-2::-2]\n",
    "    double_even_digits = [] \n",
    "    for ele in even_digits: \n",
    "        double_even_digits.append(ele + ele)\n",
    "    return double_even_digits\n",
    "\n",
    "def getDigit(double_even_digits):\n",
    "    sum_single = 0\n",
    "    for num in double_even_digits:\n",
    "        if num > 9:\n",
    "            num = num - 9\n",
    "            sum_single += num\n",
    "        else:\n",
    "            sum_single += num\n",
    "            \n",
    "    return sum_single\n",
    "\n",
    "def sumOddLocation(card_number):\n",
    "    card_num = [int(i) for i in str(card_number)]\n",
    "    odd_digits = card_num[-1::-2]\n",
    "    sum_odd = 0\n",
    "    for i in odd_digits:\n",
    "        sum_odd += i\n",
    "    return sum_odd\n",
    "\n",
    "def getSize(d):\n",
    "    num = str(d)\n",
    "    count = len(num)\n",
    "    return count\n",
    "\n",
    "def getPrefix(card_number , k):\n",
    "    if card_number > k:\n",
    "        c_string = str(card_number)\n",
    "        prefix = c_string[0:k]\n",
    "        int_p = int(prefix)\n",
    "        return int_p\n",
    "    else:\n",
    "        return card_number\n",
    "    \n",
    "def isPrefix(card_number, d):\n",
    "    prefix_ = False \n",
    "    if getPrefix(card_number, getSize(d)) == d:\n",
    "        prefix_ = True\n",
    "        return prefix_\n",
    "    else:\n",
    "        return prefix_ \n",
    "\n",
    "def total_sum(even, odd):\n",
    "    total = even + odd\n",
    "    return total\n",
    "    \n",
    " \n",
    "            \n",
    "main()"
   ]
  },
  {
   "cell_type": "code",
   "execution_count": null,
   "metadata": {},
   "outputs": [],
   "source": []
  },
  {
   "cell_type": "code",
   "execution_count": null,
   "metadata": {},
   "outputs": [],
   "source": []
  },
  {
   "cell_type": "code",
   "execution_count": null,
   "metadata": {},
   "outputs": [],
   "source": []
  },
  {
   "cell_type": "code",
   "execution_count": 4,
   "metadata": {},
   "outputs": [
    {
     "data": {
      "text/plain": [
       "3"
      ]
     },
     "execution_count": 4,
     "metadata": {},
     "output_type": "execute_result"
    }
   ],
   "source": [
    "12 // 10 + 12 % 10"
   ]
  },
  {
   "cell_type": "code",
   "execution_count": null,
   "metadata": {},
   "outputs": [],
   "source": []
  },
  {
   "cell_type": "code",
   "execution_count": null,
   "metadata": {},
   "outputs": [],
   "source": []
  },
  {
   "cell_type": "code",
   "execution_count": null,
   "metadata": {},
   "outputs": [],
   "source": []
  },
  {
   "cell_type": "code",
   "execution_count": null,
   "metadata": {},
   "outputs": [],
   "source": []
  },
  {
   "cell_type": "code",
   "execution_count": 1,
   "metadata": {},
   "outputs": [
    {
     "data": {
      "text/plain": [
       "'d'"
      ]
     },
     "execution_count": 1,
     "metadata": {},
     "output_type": "execute_result"
    }
   ],
   "source": [
    "chr(100)"
   ]
  },
  {
   "cell_type": "code",
   "execution_count": null,
   "metadata": {},
   "outputs": [],
   "source": [
    "if num < 9:\n",
    "            strCN = str(card_number)\n",
    "            number = eval(card_number[0]) + eval(card_number[1])\n",
    "            total += numb"
   ]
  },
  {
   "cell_type": "code",
   "execution_count": null,
   "metadata": {},
   "outputs": [],
   "source": [
    "4388576018402626\n",
    "not valid"
   ]
  },
  {
   "cell_type": "code",
   "execution_count": null,
   "metadata": {},
   "outputs": [],
   "source": [
    "4388576018410707\n",
    "valid"
   ]
  },
  {
   "cell_type": "code",
   "execution_count": 20,
   "metadata": {},
   "outputs": [
    {
     "name": "stdout",
     "output_type": "stream",
     "text": [
      "[2, 2, 4, 1, 6, 5, 8, 4]\n"
     ]
    }
   ],
   "source": [
    "num = 4388576018402626\n",
    "list1 = [int(i) for i in str(num)]\n",
    "even_digits = list1[-2::-2]\n",
    "print(even_digits)\n"
   ]
  }
 ],
 "metadata": {
  "kernelspec": {
   "display_name": "Python 3",
   "language": "python",
   "name": "python3"
  },
  "language_info": {
   "codemirror_mode": {
    "name": "ipython",
    "version": 3
   },
   "file_extension": ".py",
   "mimetype": "text/x-python",
   "name": "python",
   "nbconvert_exporter": "python",
   "pygments_lexer": "ipython3",
   "version": "3.7.6"
  }
 },
 "nbformat": 4,
 "nbformat_minor": 4
}
