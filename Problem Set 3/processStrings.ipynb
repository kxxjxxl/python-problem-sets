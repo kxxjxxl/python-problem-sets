{
 "cells": [
  {
   "cell_type": "code",
   "execution_count": 53,
   "metadata": {},
   "outputs": [
    {
     "name": "stdout",
     "output_type": "stream",
     "text": [
      "Enter a string of digits to process or ’quit’ to stop: 456789\n",
      "The sum of the digits in 456789 is 39\n",
      "The product of the digits in 456789 is 60480\n",
      "The string has no repeated digits\n",
      "The highest digit in the given string is 9\n",
      "\n",
      "Enter a string of digits to process or ’quit’ to stop: 56783222\n",
      "The sum of the digits in 56783222 is 35\n",
      "The product of the digits in 56783222 is 40320\n",
      "The string has repeated digits\n",
      "\n",
      "Enter a string of digits to process or ’quit’ to stop: quit\n"
     ]
    }
   ],
   "source": [
    "def main():\n",
    "    string_no = input(\"Enter a string of digits to process or ’quit’ to stop: \")\n",
    "    while string_no != 'quit':    #While loop for a sentinel to quit the loop \n",
    "        processStr(string_no)\n",
    "        result = getHasRepeatDigit(string_no)\n",
    "        if result:\n",
    "            print('The string has repeated digits')\n",
    "        else:\n",
    "            print('The string has no repeated digits')\n",
    "            \n",
    "        getHighest(string_no, result)\n",
    "        print()\n",
    "        string_no = input(\"Enter a string of digits to process or ’quit’ to stop: \")\n",
    "       \n",
    "        \n",
    "def processStr(string_no):\n",
    "    #Getting all the items in the string converted to int and adding them to the list\n",
    "    print('The sum of the digits in {} is {}' .format(string_no, sum(x)))  #Adding all the items in the list\n",
    "    \n",
    "    product = 1\n",
    "    for f in x:\n",
    "        product *= f\n",
    "    print('The product of the digits in {} is {}' .format(string_no, product))  #Looping through list and mulitpling items\n",
    "    \n",
    "    \n",
    "    \n",
    "def getHasRepeatDigit(string_no):\n",
    "    x =[int(i) for i in string_no]   \n",
    "    if len(x) == len(set(x)):    #Compare the size of set and list\n",
    "        return False             #If size of list & set is equal then it means no duplicates in list\n",
    "    else:\n",
    "        return True              #If size of list & set are different then it means yes, there are duplicates in list.\n",
    "        \n",
    "                \n",
    "def getHighest(string_no, result):  \n",
    "    x =[int(i) for i in string_no]\n",
    "    highest = max(x)    #Checking for the highest number in the list\n",
    "    if result == False: #if the result getHasRepeatDigit() is false then print the highest number\n",
    "        print('The highest digit in the given string is {}' .format(highest))\n",
    "    \n",
    "    \n",
    "    \n",
    "main()   "
   ]
  },
  {
   "cell_type": "code",
   "execution_count": null,
   "metadata": {},
   "outputs": [],
   "source": []
  },
  {
   "cell_type": "code",
   "execution_count": null,
   "metadata": {},
   "outputs": [],
   "source": []
  },
  {
   "cell_type": "code",
   "execution_count": null,
   "metadata": {},
   "outputs": [],
   "source": []
  },
  {
   "cell_type": "code",
   "execution_count": null,
   "metadata": {},
   "outputs": [],
   "source": []
  },
  {
   "cell_type": "code",
   "execution_count": null,
   "metadata": {},
   "outputs": [],
   "source": []
  },
  {
   "cell_type": "code",
   "execution_count": null,
   "metadata": {},
   "outputs": [],
   "source": []
  },
  {
   "cell_type": "code",
   "execution_count": 36,
   "metadata": {},
   "outputs": [
    {
     "name": "stdout",
     "output_type": "stream",
     "text": [
      "[2, 9, 3, 0, 3, 0, 3, 9, 0]\n",
      "0\n",
      "yes\n"
     ]
    }
   ],
   "source": [
    "x =[int(i) for i in str(293030390)]\n",
    "print(x)\n",
    "type(x)\n",
    "sum(x)\n",
    "\n",
    "\n",
    "product = 1\n",
    "for f in x:\n",
    "    product *= f\n",
    "print(product)\n",
    "\n",
    "\n",
    "if len(x) == len(set(x)):\n",
    "        print(\"no\")\n",
    "else:\n",
    "        print(\"yes\")"
   ]
  },
  {
   "cell_type": "code",
   "execution_count": 19,
   "metadata": {},
   "outputs": [
    {
     "name": "stdout",
     "output_type": "stream",
     "text": [
      "6\n"
     ]
    },
    {
     "data": {
      "text/plain": [
       "list"
      ]
     },
     "execution_count": 19,
     "metadata": {},
     "output_type": "execute_result"
    }
   ],
   "source": [
    "product = 1  # Don't use 0 here, otherwise, you'll get zero \n",
    "             # because anything times zero will be zero.\n",
    "list = [1, 2, 3]\n",
    "for x in list:\n",
    "    product *= x\n",
    "print(product)\n"
   ]
  },
  {
   "cell_type": "code",
   "execution_count": null,
   "metadata": {},
   "outputs": [],
   "source": []
  }
 ],
 "metadata": {
  "kernelspec": {
   "display_name": "Python 3",
   "language": "python",
   "name": "python3"
  },
  "language_info": {
   "codemirror_mode": {
    "name": "ipython",
    "version": 3
   },
   "file_extension": ".py",
   "mimetype": "text/x-python",
   "name": "python",
   "nbconvert_exporter": "python",
   "pygments_lexer": "ipython3",
   "version": "3.7.6"
  }
 },
 "nbformat": 4,
 "nbformat_minor": 4
}
