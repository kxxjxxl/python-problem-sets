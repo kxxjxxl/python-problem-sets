{
 "cells": [
  {
   "cell_type": "code",
   "execution_count": 40,
   "metadata": {},
   "outputs": [
    {
     "name": "stdout",
     "output_type": "stream",
     "text": [
      "Please enter the distance (kms) for the call: 77\n",
      "Please enter the time (minutes) of the call: 8\n",
      "The cost of call is: $0.9\n"
     ]
    }
   ],
   "source": [
    "#CostOfCall.py\n",
    "\n",
    "def main():\n",
    "    distance = float(input(\"Please enter the distance (kms) for the call: \"))\n",
    "    minutes = int(input(\"Please enter the time (minutes) of the call: \"))\n",
    "    if distance <= 99:\n",
    "        callCost = computeCost99k(minutes)\n",
    "    elif distance <= 199:\n",
    "        callCost = computeCost199k(minutes)\n",
    "    else:\n",
    "        callCost = computeCostOther(minutes)\n",
    "        \n",
    "    printCost(callCost)\n",
    "\n",
    "def computeCost99k(minutes):    \n",
    "    five_less = (5) * 0.12 \n",
    "    five_more = (minutes-5) * 0.10\n",
    "        \n",
    "    callCost = round((five_less + five_more), 2)\n",
    "    return callCost\n",
    "    \n",
    "\n",
    "def computeCost199k(minutes):\n",
    "    five_less = (5) * 0.15 \n",
    "    five_more = (minutes-5) * 0.13   \n",
    "    callCost = round((five_less + five_more), 2)\n",
    "    return callCost\n",
    "\n",
    "def computeCostOther(minutes):\n",
    "    callCost = 0.18 * minutes\n",
    "    return round(callCost, 2)\n",
    "\n",
    "def printCost(callCost):\n",
    "    print(\"The cost of call is: ${}\" .format(callCost))\n",
    "\n",
    "\n",
    "\n",
    "\n",
    "main()"
   ]
  },
  {
   "cell_type": "code",
   "execution_count": null,
   "metadata": {},
   "outputs": [
    {
     "name": "stdout",
     "output_type": "stream",
     "text": [
      "Enter the length of side 1: 7\n",
      "Enter the length of side 2: 8\n",
      "Enter the length of side 3: 7\n",
      "The area of the triangle is 22.98\n"
     ]
    }
   ],
   "source": [
    "#AreaOfTriangles.py\n",
    "#Compute the area of triangles using Heron's formula\n",
    "import math\n",
    "\n",
    "a = float(input(\"Enter the length of side 1: \"))\n",
    "b = float(input(\"Enter the length of side 2: \"))\n",
    "c = float(input(\"Enter the length of side 3: \"))\n",
    "s = (a+b+c)/2.0\n",
    "area = math.sqrt(s*(s-a)*(s-b)*(s-c))\n",
    "print(\"The area of the triangle is\", format(area, '.2f'))\n",
    "\n",
    "a = float(input(\"Enter the length of side 1: \"))\n",
    "b = float(input(\"Enter the length of side 2: \"))\n",
    "c = float(input(\"Enter the length of side 3: \"))\n",
    "s = (a+b+c)/2.0\n",
    "area = math.sqrt(s*(s-a)*(s-b)*(s-c))\n",
    "print(\"The area of the triangle is\", format(area, '.2f'))\n",
    "\n",
    "a = float(input(\"Enter the length of side 1: \"))\n",
    "b = float(input(\"Enter the length of side 2: \"))\n",
    "c = float(input(\"Enter the length of side 3: \"))\n",
    "s = (a+b+c)/2.0\n",
    "area = math.sqrt(s*(s-a)*(s-b)*(s-c))\n",
    "print(\"The area of the triangle is\", format(area, '.2f'))"
   ]
  },
  {
   "cell_type": "code",
   "execution_count": 3,
   "metadata": {},
   "outputs": [
    {
     "name": "stdout",
     "output_type": "stream",
     "text": [
      "How many trangles are to be processed?: 3\n",
      "Enter the length of side 1: 4\n",
      "Enter the length of side 2: 5\n",
      "Enter the length of side 3: 9\n",
      "This not a triangle\n",
      "\n",
      "Enter the length of side 1: 3\n",
      "Enter the length of side 2: 4\n",
      "Enter the length of side 3: 5\n",
      "The area of the triangle is: 6.00\n",
      "\n",
      "Enter the length of side 1: 2\n",
      "Enter the length of side 2: 3\n",
      "Enter the length of side 3: 4\n",
      "The area of the triangle is: 2.90\n",
      "\n"
     ]
    }
   ],
   "source": [
    "import math \n",
    "\n",
    "def main():\n",
    "    triangle_number = int(input(\"How many trangles are to be processed?: \"))\n",
    "    for t in range(triangle_number):\n",
    "        a = float(input(\"Enter the length of side 1: \"))\n",
    "        b = float(input(\"Enter the length of side 2: \"))\n",
    "        c = float(input(\"Enter the length of side 3: \"))\n",
    "        \n",
    "        area_calculation(a,b,c)\n",
    "        print(\"\")\n",
    "\n",
    "    \n",
    "\n",
    "def triangle_check(a,b,c):\n",
    "    if (a+b>c and a+c>b and b+c>a):\n",
    "        return True\n",
    "    return False\n",
    "\n",
    "def area_calculation(a,b,c):\n",
    "    if triangle_check(a,b,c):\n",
    "        s = (a+b+c)/2.0\n",
    "        area = math.sqrt(s*(s-a)*(s-b)*(s-c))\n",
    "        print(\"The area of the triangle is: {:.2f}\" .format(area))\n",
    "    \n",
    "    else:\n",
    "        print('This not a triangle')\n",
    "\n",
    "\n",
    "        \n",
    "\n",
    "main()   "
   ]
  },
  {
   "cell_type": "code",
   "execution_count": null,
   "metadata": {},
   "outputs": [],
   "source": [
    "#LCM.py\n",
    "\n",
    "#Code for GCD\n",
    "def gcd(x, y):\n",
    "    while y != 0:\n",
    "        t = y\n",
    "        y = x % y\n",
    "        x = t\n",
    "    return x\n",
    "\n",
    "#Code for LCM\n",
    "def lcm(x, y): \n",
    "    return (x * y) // gcd(x,y)\n",
    "\n",
    "#This program calculates the LCM (Least Common Multiple) for three integers\n",
    "def main():\n",
    "    a = int(input(\"Please enter an integer: \"))\n",
    "    b = int(input(\"Please enter an integer: \"))\n",
    "    c = int(input(\"Please enter an integer: \"))\n",
    "    lcmFound = lcm(lcm(a,b),c)\n",
    "    print(\"lcm of values\", a, b, c, \"is:\", lcmFound)\n",
    "\n",
    "main()"
   ]
  },
  {
   "cell_type": "code",
   "execution_count": 6,
   "metadata": {},
   "outputs": [
    {
     "name": "stdout",
     "output_type": "stream",
     "text": [
      "Enter the number of cylinders: 4\n",
      "301.632\n",
      "201.088\n"
     ]
    }
   ],
   "source": [
    "from math import *\n",
    "def main():\n",
    "    n = int(input(\"Enter the number of cylinders: \"))\n",
    "    r=2 \n",
    "    h=4\n",
    "    area = surface_area(r,h)\n",
    "    vol = volume(r,h)\n",
    "    n_area = area*n\n",
    "    n_vol = vol*n\n",
    "    print(n_area)\n",
    "    print(n_vol)\n",
    "    \n",
    "\n",
    "    \n",
    "def surface_area(r,h):\n",
    "    surface_area = (2 * 3.142 * r * h) + (2 * 3.142 * r**2)\n",
    "    return surface_area \n",
    "    \n",
    "\n",
    "\n",
    "def volume(r,h):\n",
    "    volume = 3.142 * (r**2) * h\n",
    "    return volume \n",
    "\n",
    "main()"
   ]
  },
  {
   "cell_type": "code",
   "execution_count": 1,
   "metadata": {},
   "outputs": [
    {
     "name": "stdout",
     "output_type": "stream",
     "text": [
      " \n",
      "                      1: Mexico (Peso)\n",
      "                      2: Brazil (Real)\n",
      "                      3: India (Rupee)\n",
      "                      4: UK (Pound)\n",
      "                      \n",
      "\n",
      "                       Please enter the number for the country: 4\n",
      "How much money do you want to convert? 123\n",
      "123.00 Canadian Dollars is 73.80 Pounds\n"
     ]
    }
   ],
   "source": [
    "def main():\n",
    "    q = float(input(\"\"\" \n",
    "                      1: Mexico (Peso)\n",
    "                      2: Brazil (Real)\n",
    "                      3: India (Rupee)\n",
    "                      4: UK (Pound)\n",
    "                      \n",
    "\n",
    "                       Please enter the number for the country: \"\"\"))\n",
    "    \n",
    "\n",
    "    if q == 1:\n",
    "        money = float(input(\"How much money do you want to convert? \"))\n",
    "        ans = peso(money)\n",
    "        print(\"{:.2f} Canadian Dollars is {:.2f} Peso\" .format(money, ans))\n",
    "        \n",
    "    elif q == 2:\n",
    "        money = float(input(\"How much money do you want to convert? \"))\n",
    "        ans = reals(money)\n",
    "        print(\"{:.2f} Canadian Dollars is {:.2f} Reals\" .format(money, ans))\n",
    "    elif q == 3:\n",
    "        money = float(input(\"How much money do you want to convert? \"))\n",
    "        ans = rupee(money)\n",
    "        print(\"{:.2f} Canadian Dollars is {:.2f} Rupees\" .format(money, ans))\n",
    "        \n",
    "    elif q == 4:\n",
    "        money = float(input(\"How much money do you want to convert? \"))\n",
    "        ans = pounds(money)\n",
    "        print(\"{:.2f} Canadian Dollars is {:.2f} Pounds\" .format(money, ans))\n",
    "        \n",
    "              \n",
    "def peso(money):\n",
    "    PESO = 14.56\n",
    "    conv = money * PESO\n",
    "    return conv\n",
    "\n",
    "def rupee(money):\n",
    "    RUPEE = 52.40\n",
    "    conv = money * RUPEE\n",
    "    return conv\n",
    "\n",
    "def reals(money):\n",
    "    REALS = 2.52\n",
    "    conv = money * REALS\n",
    "    return conv\n",
    "\n",
    "def pounds(money):\n",
    "    POUNDS = 0.60\n",
    "    conv = money * POUNDS\n",
    "    return conv\n",
    "    \n",
    "    \n",
    "main()"
   ]
  },
  {
   "cell_type": "code",
   "execution_count": null,
   "metadata": {},
   "outputs": [],
   "source": []
  },
  {
   "cell_type": "code",
   "execution_count": null,
   "metadata": {},
   "outputs": [],
   "source": []
  },
  {
   "cell_type": "code",
   "execution_count": null,
   "metadata": {},
   "outputs": [],
   "source": []
  },
  {
   "cell_type": "code",
   "execution_count": null,
   "metadata": {},
   "outputs": [],
   "source": []
  },
  {
   "cell_type": "code",
   "execution_count": 2,
   "metadata": {},
   "outputs": [
    {
     "ename": "IndentationError",
     "evalue": "unexpected indent (<ipython-input-2-9c16698b7911>, line 3)",
     "output_type": "error",
     "traceback": [
      "\u001b[1;36m  File \u001b[1;32m\"<ipython-input-2-9c16698b7911>\"\u001b[1;36m, line \u001b[1;32m3\u001b[0m\n\u001b[1;33m    1: Mexico (Peso)\u001b[0m\n\u001b[1;37m    ^\u001b[0m\n\u001b[1;31mIndentationError\u001b[0m\u001b[1;31m:\u001b[0m unexpected indent\n"
     ]
    }
   ],
   "source": []
  },
  {
   "cell_type": "code",
   "execution_count": null,
   "metadata": {},
   "outputs": [],
   "source": []
  }
 ],
 "metadata": {
  "kernelspec": {
   "display_name": "Python 3",
   "language": "python",
   "name": "python3"
  },
  "language_info": {
   "codemirror_mode": {
    "name": "ipython",
    "version": 3
   },
   "file_extension": ".py",
   "mimetype": "text/x-python",
   "name": "python",
   "nbconvert_exporter": "python",
   "pygments_lexer": "ipython3",
   "version": "3.7.6"
  }
 },
 "nbformat": 4,
 "nbformat_minor": 4
}
