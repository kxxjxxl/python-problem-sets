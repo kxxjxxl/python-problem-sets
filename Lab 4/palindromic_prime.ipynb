{
 "cells": [
  {
   "cell_type": "code",
   "execution_count": 3,
   "metadata": {},
   "outputs": [
    {
     "name": "stdout",
     "output_type": "stream",
     "text": [
      "How many palindromic primes should be computed?: 50\n",
      "2\n",
      "3\n",
      "5\n",
      "7\n",
      "11\n",
      "13\n",
      "17\n",
      "19\n",
      "23\n",
      "29\n",
      "31\n",
      "37\n",
      "41\n",
      "43\n",
      "47\n",
      "   50"
     ]
    }
   ],
   "source": [
    "def main():\n",
    "    PRIMES_PER_LINE = 10\n",
    "    count = 0\n",
    "    number = int(input(\"How many palindromic primes should be computed?: \"))\n",
    "    isPrime(number)\n",
    "    if isPrime: \n",
    "        count+=1\n",
    "        print(\"%5d\" % number,end=\"\")\n",
    "        if(count % PRIMES_PER_LINE == 0):\n",
    "            print() # move to next line\n",
    "    \n",
    "\n",
    "\n",
    "\n",
    "def is_prime(n):\n",
    "    status = True\n",
    "    if n < 2:\n",
    "        status = False\n",
    "    else:\n",
    "        for i in range(2,n):\n",
    "            if n % i == 0:\n",
    "                status = False\n",
    "    return status\n",
    "                \n",
    "main()"
   ]
  },
  {
   "cell_type": "code",
   "execution_count": null,
   "metadata": {},
   "outputs": [],
   "source": [
    "from math import sqrt\n",
    "NUMBER_OF_PRIMES = 50\n",
    "PRIMES_PER_LINE = 10\n",
    "count=0 # number of primes computed\n",
    "number=2 # start at 2\n",
    "print(\"The first\",NUMBER_OF_PRIMES,\"primes are:\")\n",
    "while count < NUMBER_OF_PRIMES:\n",
    "isPrime = True # assume the number is prime\n",
    "# determine if number is prime\n",
    "divisor = 2\n",
    "while divisor <= sqrt(number):\n",
    "if number % divisor == 0:\n",
    "isPrime = False\n",
    "break # exit the loop\n",
    "divisor +=1\n",
    "if isPrime: # increment count and and output value\n",
    "count+=1\n",
    "print(\"%5d\" % number,end=\"\")\n",
    "if(count % PRIMES_PER_LINE == 0):\n",
    "print() # move to next line\n",
    "# move to next number to check\n",
    "number+=1"
   ]
  },
  {
   "cell_type": "code",
   "execution_count": 17,
   "metadata": {},
   "outputs": [
    {
     "name": "stdout",
     "output_type": "stream",
     "text": [
      "How many palindromic primes should be computed?: 25\n",
      "    2     3     5     7    11   101   131   151   181   191 \n",
      "  313   353   373   383   727   757   787   797   919   929 \n",
      "10301 10501 10601 11311 11411 "
     ]
    }
   ],
   "source": [
    "def main():\n",
    "    count = 0\n",
    "    PRIMES_PER_LINE = 10\n",
    "    checkNum = 1\n",
    "    number = int(input(\"How many palindromic primes should be computed?: \"))\n",
    "    while count < number:\n",
    "        checkNum += 1\n",
    "        if  isPrime(checkNum) and isPalindrome(checkNum):\n",
    "            print('{:>5d} '.format(checkNum), end='')\n",
    "            if (count + 1) % PRIMES_PER_LINE == 0:\n",
    "                print()\n",
    "            count +=1\n",
    "\n",
    "def reverse(number):\n",
    "    reverse = 0\n",
    "    while number != 0:\n",
    "        lastDigit = number % 10\n",
    "        number //= 10\n",
    "        reverse = (reverse * 10) + lastDigit\n",
    "    return reverse\n",
    "\n",
    "def isPrime(n):\n",
    "    divisor = 2\n",
    "    while divisor <= n / 2:\n",
    "        if n % divisor == 0:    # if True number NOT prime\n",
    "            return False\n",
    "        divisor += 1\n",
    "    return True\n",
    "\n",
    "\n",
    "def isPalindrome(num):\n",
    "    if (reverse(num) == num):\n",
    "        return True     \n",
    "    else:\n",
    "        return False\n",
    "\n",
    "if __name__ == '__main__':\n",
    "    main()"
   ]
  },
  {
   "cell_type": "code",
   "execution_count": 14,
   "metadata": {},
   "outputs": [
    {
     "name": "stdout",
     "output_type": "stream",
     "text": [
      "3\n",
      "3\n",
      "4\n",
      "5\n",
      "4\n",
      "3\n",
      "334543\n"
     ]
    }
   ],
   "source": [
    "number = 345433\n",
    "\n",
    "rev = 0\n",
    "while number != 0:\n",
    "        lastDigit = number % 10\n",
    "        print(lastDigit)\n",
    "        number //= 10\n",
    "        rev = (rev * 10) + lastDigit\n",
    "print(rev)"
   ]
  },
  {
   "cell_type": "code",
   "execution_count": null,
   "metadata": {},
   "outputs": [],
   "source": []
  }
 ],
 "metadata": {
  "kernelspec": {
   "display_name": "Python 3",
   "language": "python",
   "name": "python3"
  },
  "language_info": {
   "codemirror_mode": {
    "name": "ipython",
    "version": 3
   },
   "file_extension": ".py",
   "mimetype": "text/x-python",
   "name": "python",
   "nbconvert_exporter": "python",
   "pygments_lexer": "ipython3",
   "version": "3.7.6"
  }
 },
 "nbformat": 4,
 "nbformat_minor": 4
}
