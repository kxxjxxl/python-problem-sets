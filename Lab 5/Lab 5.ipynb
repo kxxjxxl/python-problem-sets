{
 "cells": [
  {
   "cell_type": "code",
   "execution_count": null,
   "metadata": {},
   "outputs": [],
   "source": [
    "#Create the empty list \n",
    "numList = []\n",
    "\n",
    "\n",
    "#Get the number of values to be entered \n",
    "noOfVal = int(input(\"How many values in your initial list? \"))\n",
    "\n",
    "#Set up a for loop to obtain one value at a time to create the list\n",
    "for i in range(noOfVal+1):\n",
    "    inNum = int(input(\"Enter an integer value for your initial list: \") )\n",
    "    numList.append(inNum)\n",
    "    \n",
    "\n",
    "#Use a while loop to accept another list of numbers, terminated by a zero\n",
    "inNum = int(input(\"Enter additional integer values, or 0 to terminate: \") )\n",
    "while inNum != 0 :\n",
    "    inNum = int(input(\"Enter additional integer values, or 0 to terminate: \") )\n",
    "    numList.append(inNum)\n",
    "    \n",
    "    \n",
    "#Print the contents of the list with labels showing their location/index\n",
    "length = len(numList)\n",
    "print(\"%5s   %5s\" % (\"Index\",\"Value\"))\n",
    "for i in range(length):\n",
    "        print('{:>5}' '{:>5}' .format(i, numList[i]))\n",
    "\n",
    "#Print the entire list (see sample output)\n",
    "print (\"The entire list is: \", numList   )\n",
    "\n",
    "#Print the third element from the list \n",
    "print(\"The third element of the list is: \", numList[2])\n",
    "\n",
    "#Print the first element from the list\n",
    "print(\"The first element of the list is: \", numList[0])\n",
    "\n",
    "#Print the last element from the list, assuming you do not know\n",
    "#how many elements are there in the list (use a negative number)\n",
    "print(\"The last element of the list is: \", numList[-1])  \n",
    "\n",
    "#Print the middle element from the list\n",
    "middle = 0\n",
    "if len(numList) % 2 == 0:\n",
    "    index = len(numList)/2\n",
    "    middle += index\n",
    "else:\n",
    "    index = (len(numList) + 1) /2\n",
    "    middle += index\n",
    "print(\"The middle element of the list is: \", numList[middle-1]   )\n",
    "\n",
    "#Print the sum of all the elements in the list\n",
    "listSum = 0\n",
    "for i in numList:\n",
    "    listSum +=  i\n",
    "print(\"The sum of all the values in the list is: \", listSum)\n",
    "\n",
    "#Print the elements of the list in reverse\n",
    "length = len(numList)\n",
    "print(\"%5s   %5s\" % (\"Index\",\"Value\"))\n",
    "reverseList = []\n",
    "reverseList.append(numList[::-1])\n",
    "for i in range(length):\n",
    "    print('{:>5}' '{:>5}' .format(i, numList[i]))"
   ]
  },
  {
   "cell_type": "code",
   "execution_count": null,
   "metadata": {},
   "outputs": [],
   "source": []
  },
  {
   "cell_type": "code",
   "execution_count": null,
   "metadata": {},
   "outputs": [],
   "source": []
  },
  {
   "cell_type": "code",
   "execution_count": null,
   "metadata": {},
   "outputs": [],
   "source": []
  },
  {
   "cell_type": "code",
   "execution_count": null,
   "metadata": {},
   "outputs": [],
   "source": []
  },
  {
   "cell_type": "code",
   "execution_count": 17,
   "metadata": {},
   "outputs": [
    {
     "ename": "SyntaxError",
     "evalue": "invalid syntax (<ipython-input-17-52647f66b96f>, line 27)",
     "output_type": "error",
     "traceback": [
      "\u001b[1;36m  File \u001b[1;32m\"<ipython-input-17-52647f66b96f>\"\u001b[1;36m, line \u001b[1;32m27\u001b[0m\n\u001b[1;33m    for i in range(lengthR::-1):\u001b[0m\n\u001b[1;37m                          ^\u001b[0m\n\u001b[1;31mSyntaxError\u001b[0m\u001b[1;31m:\u001b[0m invalid syntax\n"
     ]
    }
   ],
   "source": [
    "numList = [15, 25, 8, 7, 1, 10, 55, 96, 65, 36, 77, 18, 20]\n",
    "middle = 0\n",
    "if len(numList) % 2 == 0:\n",
    "    index = len(numList)/2\n",
    "    middle += index\n",
    "else:\n",
    "    index = (len(numList) + 1) /2\n",
    "    middle += index\n",
    "    \n",
    "listSum = 0\n",
    "for i in numList:\n",
    "    listSum +=  i\n",
    "    \n",
    "print(middle-1) \n",
    "print(listSum)\n",
    "\n",
    "length = len(numList)\n",
    "print(\"%5s   %5s\" % (\"Index\",\"Value\"))\n",
    "for i in range(length):\n",
    "        print('{:>5}' '{:>5}' .format(i, numList[i]))\n",
    "        \n",
    "        \n",
    "reverseList = []\n",
    "reverseList.append(numList[::-1])\n",
    "lengthR = len(reverseList)\n",
    "print(\"%5s   %5s\" % (\"Index\",\"Value\"))\n",
    "for i in range(lengthR::-1):\n",
    "        print('{:>5}' '{:>5}' .format(i, numList[i]))\n"
   ]
  },
  {
   "cell_type": "code",
   "execution_count": 20,
   "metadata": {},
   "outputs": [
    {
     "ename": "SyntaxError",
     "evalue": "invalid syntax (<ipython-input-20-276ce0e79299>, line 24)",
     "output_type": "error",
     "traceback": [
      "\u001b[1;36m  File \u001b[1;32m\"<ipython-input-20-276ce0e79299>\"\u001b[1;36m, line \u001b[1;32m24\u001b[0m\n\u001b[1;33m    for i in range(length+1,,-1):\u001b[0m\n\u001b[1;37m                            ^\u001b[0m\n\u001b[1;31mSyntaxError\u001b[0m\u001b[1;31m:\u001b[0m invalid syntax\n"
     ]
    }
   ],
   "source": [
    "#Create the empty list \n",
    "numList = []\n",
    "\n",
    "\n",
    "#Get the number of values to be entered \n",
    "noOfVal = int(input(\"How many values in your initial list? \"))\n",
    "\n",
    "#Set up a for loop to obtain one value at a time to create the list\n",
    "for i in range(noOfVal+1):\n",
    "    inNum = int(input(\"Enter an integer value for your initial list: \") )\n",
    "    numList.append(inNum)\n",
    "    \n",
    "\n",
    "#Use a while loop to accept another list of numbers, terminated by a zero\n",
    "inNum = int(input(\"Enter additional integer values, or 0 to terminate: \") )\n",
    "while inNum != 0 :\n",
    "    inNum = int(input(\"Enter additional integer values, or 0 to terminate: \") )\n",
    "    numList.append(inNum)\n",
    "    \n",
    "    \n",
    "#Print the contents of the list with labels showing their location/index\n",
    "length = len(numList)\n",
    "print(\"%5s   %5s\" % (\"Index\",\"Value\"))\n",
    "for i in range(length+1,,-1):\n",
    "    index = 0\n",
    "    print(\"%5s   %5s\" % (   ))\n"
   ]
  },
  {
   "cell_type": "code",
   "execution_count": null,
   "metadata": {},
   "outputs": [],
   "source": []
  },
  {
   "cell_type": "code",
   "execution_count": null,
   "metadata": {},
   "outputs": [],
   "source": []
  },
  {
   "cell_type": "code",
   "execution_count": null,
   "metadata": {},
   "outputs": [],
   "source": []
  },
  {
   "cell_type": "code",
   "execution_count": null,
   "metadata": {},
   "outputs": [],
   "source": []
  },
  {
   "cell_type": "code",
   "execution_count": 23,
   "metadata": {},
   "outputs": [
    {
     "name": "stdout",
     "output_type": "stream",
     "text": [
      "6 5 4 3 2 1 0 "
     ]
    },
    {
     "ename": "IndexError",
     "evalue": "list index out of range",
     "output_type": "error",
     "traceback": [
      "\u001b[1;31m---------------------------------------------------------------------------\u001b[0m",
      "\u001b[1;31mIndexError\u001b[0m                                Traceback (most recent call last)",
      "\u001b[1;32m<ipython-input-23-a97a7937e3b2>\u001b[0m in \u001b[0;36m<module>\u001b[1;34m\u001b[0m\n\u001b[0;32m      8\u001b[0m     \u001b[0mprint\u001b[0m\u001b[1;33m(\u001b[0m\u001b[1;33m)\u001b[0m\u001b[1;33m\u001b[0m\u001b[1;33m\u001b[0m\u001b[0m\n\u001b[0;32m      9\u001b[0m \u001b[1;33m\u001b[0m\u001b[0m\n\u001b[1;32m---> 10\u001b[1;33m \u001b[0mexer2\u001b[0m\u001b[1;33m(\u001b[0m\u001b[1;33m)\u001b[0m\u001b[1;33m\u001b[0m\u001b[1;33m\u001b[0m\u001b[0m\n\u001b[0m",
      "\u001b[1;32m<ipython-input-23-a97a7937e3b2>\u001b[0m in \u001b[0;36mexer2\u001b[1;34m()\u001b[0m\n\u001b[0;32m      5\u001b[0m         \u001b[0mintArr\u001b[0m\u001b[1;33m[\u001b[0m\u001b[0mi\u001b[0m\u001b[1;33m]\u001b[0m \u001b[1;33m=\u001b[0m \u001b[0mlen\u001b[0m\u001b[1;33m(\u001b[0m\u001b[0mintArr\u001b[0m\u001b[1;33m)\u001b[0m \u001b[1;33m-\u001b[0m \u001b[1;36m1\u001b[0m \u001b[1;33m-\u001b[0m \u001b[0mi\u001b[0m\u001b[1;33m\u001b[0m\u001b[1;33m\u001b[0m\u001b[0m\n\u001b[0;32m      6\u001b[0m     \u001b[1;32mfor\u001b[0m \u001b[0mi\u001b[0m \u001b[1;32min\u001b[0m \u001b[0mrange\u001b[0m\u001b[1;33m(\u001b[0m\u001b[1;36m0\u001b[0m\u001b[1;33m,\u001b[0m \u001b[0mlen\u001b[0m\u001b[1;33m(\u001b[0m\u001b[0mintArr\u001b[0m\u001b[1;33m)\u001b[0m\u001b[1;33m+\u001b[0m\u001b[1;36m1\u001b[0m\u001b[1;33m)\u001b[0m\u001b[1;33m:\u001b[0m\u001b[1;33m\u001b[0m\u001b[1;33m\u001b[0m\u001b[0m\n\u001b[1;32m----> 7\u001b[1;33m         \u001b[0mprint\u001b[0m\u001b[1;33m(\u001b[0m\u001b[0mintArr\u001b[0m\u001b[1;33m[\u001b[0m\u001b[0mi\u001b[0m\u001b[1;33m]\u001b[0m\u001b[1;33m,\u001b[0m \u001b[0mend\u001b[0m\u001b[1;33m=\u001b[0m\u001b[1;34m\" \"\u001b[0m\u001b[1;33m)\u001b[0m\u001b[1;33m\u001b[0m\u001b[1;33m\u001b[0m\u001b[0m\n\u001b[0m\u001b[0;32m      8\u001b[0m     \u001b[0mprint\u001b[0m\u001b[1;33m(\u001b[0m\u001b[1;33m)\u001b[0m\u001b[1;33m\u001b[0m\u001b[1;33m\u001b[0m\u001b[0m\n\u001b[0;32m      9\u001b[0m \u001b[1;33m\u001b[0m\u001b[0m\n",
      "\u001b[1;31mIndexError\u001b[0m: list index out of range"
     ]
    }
   ],
   "source": [
    "#contains a bug which must be fixed\n",
    "def exer2():\n",
    "    intArr = [0]*7\n",
    "    for i in range(len(intArr)-1,-1,-1):\n",
    "        intArr[i] = len(intArr) - 1 - i\n",
    "    for i in range(0, len(intArr)+1):\n",
    "        print(intArr[i], end=\" \")\n",
    "    print() \n",
    "\n",
    "exer2()"
   ]
  },
  {
   "cell_type": "code",
   "execution_count": 28,
   "metadata": {},
   "outputs": [
    {
     "name": "stdout",
     "output_type": "stream",
     "text": [
      "6 5 4 3 2 1 0 "
     ]
    },
    {
     "ename": "IndexError",
     "evalue": "list index out of range",
     "output_type": "error",
     "traceback": [
      "\u001b[1;31m---------------------------------------------------------------------------\u001b[0m",
      "\u001b[1;31mIndexError\u001b[0m                                Traceback (most recent call last)",
      "\u001b[1;32m<ipython-input-28-e4d9792ddcdd>\u001b[0m in \u001b[0;36m<module>\u001b[1;34m\u001b[0m\n\u001b[0;32m      3\u001b[0m     \u001b[0mintArr\u001b[0m\u001b[1;33m[\u001b[0m\u001b[0mi\u001b[0m\u001b[1;33m]\u001b[0m \u001b[1;33m=\u001b[0m \u001b[0mlen\u001b[0m\u001b[1;33m(\u001b[0m\u001b[0mintArr\u001b[0m\u001b[1;33m)\u001b[0m \u001b[1;33m-\u001b[0m \u001b[1;36m1\u001b[0m \u001b[1;33m-\u001b[0m \u001b[0mi\u001b[0m\u001b[1;33m\u001b[0m\u001b[1;33m\u001b[0m\u001b[0m\n\u001b[0;32m      4\u001b[0m \u001b[1;32mfor\u001b[0m \u001b[0mi\u001b[0m \u001b[1;32min\u001b[0m \u001b[0mrange\u001b[0m\u001b[1;33m(\u001b[0m\u001b[1;36m0\u001b[0m\u001b[1;33m,\u001b[0m \u001b[0mlen\u001b[0m\u001b[1;33m(\u001b[0m\u001b[0mintArr\u001b[0m\u001b[1;33m)\u001b[0m\u001b[1;33m+\u001b[0m\u001b[1;36m1\u001b[0m\u001b[1;33m)\u001b[0m\u001b[1;33m:\u001b[0m\u001b[1;33m\u001b[0m\u001b[1;33m\u001b[0m\u001b[0m\n\u001b[1;32m----> 5\u001b[1;33m     \u001b[0mprint\u001b[0m\u001b[1;33m(\u001b[0m\u001b[0mintArr\u001b[0m\u001b[1;33m[\u001b[0m\u001b[0mi\u001b[0m\u001b[1;33m]\u001b[0m\u001b[1;33m,\u001b[0m \u001b[0mend\u001b[0m\u001b[1;33m=\u001b[0m\u001b[1;34m\" \"\u001b[0m\u001b[1;33m)\u001b[0m\u001b[1;33m\u001b[0m\u001b[1;33m\u001b[0m\u001b[0m\n\u001b[0m\u001b[0;32m      6\u001b[0m \u001b[1;33m\u001b[0m\u001b[0m\n\u001b[0;32m      7\u001b[0m \u001b[0mprint\u001b[0m\u001b[1;33m(\u001b[0m\u001b[0mintArr\u001b[0m\u001b[1;33m)\u001b[0m\u001b[1;33m\u001b[0m\u001b[1;33m\u001b[0m\u001b[0m\n",
      "\u001b[1;31mIndexError\u001b[0m: list index out of range"
     ]
    }
   ],
   "source": [
    "intArr = [0]*7\n",
    "for i in range(len(intArr)-1,-1,-1):\n",
    "    intArr[i] = len(intArr) - 1 - i\n",
    "for i in range(0, len(intArr)+1):\n",
    "    print(intArr[i], end=\" \")\n",
    "    \n",
    "print(intArr)"
   ]
  },
  {
   "cell_type": "code",
   "execution_count": null,
   "metadata": {},
   "outputs": [],
   "source": []
  }
 ],
 "metadata": {
  "kernelspec": {
   "display_name": "Python 3",
   "language": "python",
   "name": "python3"
  },
  "language_info": {
   "codemirror_mode": {
    "name": "ipython",
    "version": 3
   },
   "file_extension": ".py",
   "mimetype": "text/x-python",
   "name": "python",
   "nbconvert_exporter": "python",
   "pygments_lexer": "ipython3",
   "version": "3.7.6"
  }
 },
 "nbformat": 4,
 "nbformat_minor": 4
}
