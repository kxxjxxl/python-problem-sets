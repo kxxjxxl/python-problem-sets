{
 "cells": [
  {
   "cell_type": "code",
   "execution_count": null,
   "metadata": {},
   "outputs": [],
   "source": [
    "words = ['rainbow', 'computer', 'science', 'programming', \n",
    "         'python', 'mathematics', 'player', 'condition', \n",
    "         'reverse', 'water', 'board', 'geeks'] \n",
    "\n",
    "\n",
    "for i in word\n",
    " "
   ]
  },
  {
   "cell_type": "code",
   "execution_count": null,
   "metadata": {},
   "outputs": [
    {
     "name": "stdout",
     "output_type": "stream",
     "text": [
      "\n",
      "Enter a letter: t\n",
      "t is not in the word\n",
      "\n",
      "Enter a letter: a\n",
      "a is not in the word\n",
      "\n",
      "Enter a letter: d\n",
      "d\n",
      "Enter a letter: i\n",
      "di\n",
      "Enter a letter: m\n",
      "dim\n",
      "\n",
      "The word is  dim  .The total number of misses  2\n"
     ]
    }
   ],
   "source": [
    "import random\n",
    "def word_guess():\n",
    "    while True:\n",
    "        i=0\n",
    "        countmiss=0\n",
    "        words=[\"apple\",\"dim\",\"cucumber\"]\n",
    "        word=random.choice(words)\n",
    "        count=len(word)\n",
    "        for k in range(count):\n",
    "            print(\"\",end=\"\")\n",
    "        while i < count:\n",
    "            guessletter=input(\"\\nEnter a letter: \")\n",
    "            if guessletter==word[i]:\n",
    "                i+=1\n",
    "            else:\n",
    "                countmiss+=1\n",
    "                print(guessletter,\"is not in the word\")\n",
    "            print(word[0:i],end=\"\")\n",
    "            for k in range(count-i):\n",
    "                print(\"\",end=\"\")\n",
    "        print(\"\\n\\nThe word is \",word,\" .The total number of misses \",countmiss)\n",
    "        more=input(\"\\nDo you want to play more?(y/n): \")\n",
    "        if more==\"n\":\n",
    "            print(\"Finished\")\n",
    "            break\n",
    "word_guess()"
   ]
  },
  {
   "cell_type": "code",
   "execution_count": null,
   "metadata": {},
   "outputs": [],
   "source": []
  },
  {
   "cell_type": "code",
   "execution_count": null,
   "metadata": {},
   "outputs": [],
   "source": []
  },
  {
   "cell_type": "code",
   "execution_count": null,
   "metadata": {},
   "outputs": [],
   "source": []
  },
  {
   "cell_type": "code",
   "execution_count": null,
   "metadata": {},
   "outputs": [],
   "source": []
  },
  {
   "cell_type": "code",
   "execution_count": null,
   "metadata": {
    "scrolled": true
   },
   "outputs": [
    {
     "name": "stdout",
     "output_type": "stream",
     "text": [
      "*****\n",
      "Guess a letter in the word >> *****a\n",
      "a is not in the word\n",
      "*****\n",
      "Guess a letter in the word >> *****s\n",
      "Correct\n",
      "****s\n",
      "Guess a letter in the word >> ****sd\n",
      "d is not in the word\n",
      "****s\n",
      "Guess a letter in the word >> ****sg\n",
      "Correct\n",
      "g***s\n",
      "Guess a letter in the word >> g***se\n",
      "Correct\n",
      "gee*s\n",
      "Guess a letter in the word >> gee*se\n",
      "Correct\n",
      "gee*s\n",
      "Guess a letter in the word >> gee*sk\n",
      "Correct\n",
      "The word is geeks and you missed 2 times\n",
      "board\n"
     ]
    }
   ],
   "source": [
    "import random\n",
    "words = ['reverse', 'water', 'board', 'geeks']\n",
    "\n",
    "word=random.choice(words)\n",
    "display = '*'*len(word)\n",
    "\n",
    "missed = 0\n",
    "game_over = False\n",
    "again = 'y'\n",
    "while not game_over and again !='n':\n",
    "    print(display)\n",
    "    guess = input(\"Guess a letter in the word >> {}\" .format(display))\n",
    "    \n",
    "    i = 0\n",
    "    if guess in word:\n",
    "        while word.find(guess, i) != -1:\n",
    "            i = word.find(guess, i)\n",
    "            display = display[:i] + guess + display[i+1:]\n",
    "            i+=1\n",
    "        print('Correct')\n",
    "    else:\n",
    "        print(\"{} is not in the word\" .format(guess))\n",
    "        missed +=1\n",
    "        \n",
    "    if word == display:\n",
    "        print(\"The word is {} and you missed {} times\" .format(word, missed))\n",
    "        game_over = True\n",
    "        \n",
    "    # Reinitialising the values so that the program can be run again\n",
    "        words = ['reverse', 'water', 'board', 'geeks']\n",
    "        word = random.choice(words)\n",
    "        print(word)\n",
    "        asterik = \"*\" * len(word)\n",
    "        retry = input(\"Do you want to guess for another word? Enter y or n\").lower\n",
    "    \n",
    "\n",
    "    "
   ]
  },
  {
   "cell_type": "markdown",
   "metadata": {},
   "source": [
    "qb\n",
    "t\n",
    "\n"
   ]
  },
  {
   "cell_type": "code",
   "execution_count": null,
   "metadata": {},
   "outputs": [],
   "source": []
  },
  {
   "cell_type": "code",
   "execution_count": null,
   "metadata": {},
   "outputs": [],
   "source": []
  },
  {
   "cell_type": "code",
   "execution_count": null,
   "metadata": {},
   "outputs": [],
   "source": []
  },
  {
   "cell_type": "code",
   "execution_count": 10,
   "metadata": {},
   "outputs": [
    {
     "ename": "SyntaxError",
     "evalue": "unexpected EOF while parsing (<ipython-input-10-90bef70b3f26>, line 24)",
     "output_type": "error",
     "traceback": [
      "\u001b[1;36m  File \u001b[1;32m\"<ipython-input-10-90bef70b3f26>\"\u001b[1;36m, line \u001b[1;32m24\u001b[0m\n\u001b[1;33m    \u001b[0m\n\u001b[1;37m    ^\u001b[0m\n\u001b[1;31mSyntaxError\u001b[0m\u001b[1;31m:\u001b[0m unexpected EOF while parsing\n"
     ]
    }
   ],
   "source": [
    "import random\n",
    "\n",
    "list1 = [\"fly\",\"smile\",\"river\"]\n",
    "word = random.choice(list)\n",
    "display = '*'*len(word)\n",
    "k = 0\n",
    "while k < len(word):\n",
    "    guess = input(\"Guess a letter in the word >> {}\" .format(display))\n",
    "    \n",
    "    i = 0\n",
    "    if guess in word:\n",
    "        while word.find(guess, i) != -1:\n",
    "            i = word.find(guess, i)\n",
    "            display = display[:i] + guess + display[i+1:]\n",
    "            i+=1\n",
    "            k+=1\n",
    "        print('Correct')\n",
    "    else:\n",
    "        print(\"{} is not in the word\" .format(guess))\n",
    "        missed +=1\n",
    "        \n",
    "    if word == display:\n",
    "        print(\"The word is {} and you missed {} times\" .format(words, missed)\n",
    "\n"
   ]
  },
  {
   "cell_type": "code",
   "execution_count": null,
   "metadata": {},
   "outputs": [],
   "source": []
  },
  {
   "cell_type": "code",
   "execution_count": null,
   "metadata": {},
   "outputs": [],
   "source": []
  },
  {
   "cell_type": "code",
   "execution_count": 14,
   "metadata": {},
   "outputs": [
    {
     "name": "stdout",
     "output_type": "stream",
     "text": [
      "enter you guess letterf\n",
      "f is wrong\n",
      "f is wrong\n",
      "f is wrong\n",
      "f is wrong\n",
      "f is wrong\n",
      "enter you guess letterv\n",
      "v is wrong\n",
      "v is wrong\n"
     ]
    },
    {
     "ename": "TypeError",
     "evalue": "'int' object is not subscriptable",
     "output_type": "error",
     "traceback": [
      "\u001b[1;31m---------------------------------------------------------------------------\u001b[0m",
      "\u001b[1;31mTypeError\u001b[0m                                 Traceback (most recent call last)",
      "\u001b[1;32m<ipython-input-14-7be447bd80e6>\u001b[0m in \u001b[0;36m<module>\u001b[1;34m\u001b[0m\n\u001b[0;32m     13\u001b[0m     \u001b[1;32mfor\u001b[0m \u001b[0mi\u001b[0m \u001b[1;32min\u001b[0m \u001b[0mrange\u001b[0m\u001b[1;33m(\u001b[0m\u001b[0mlen\u001b[0m\u001b[1;33m(\u001b[0m\u001b[0mword\u001b[0m\u001b[1;33m)\u001b[0m\u001b[1;33m)\u001b[0m\u001b[1;33m:\u001b[0m\u001b[1;33m\u001b[0m\u001b[1;33m\u001b[0m\u001b[0m\n\u001b[0;32m     14\u001b[0m         \u001b[1;32mif\u001b[0m \u001b[0mletter\u001b[0m \u001b[1;33m==\u001b[0m \u001b[0mword\u001b[0m\u001b[1;33m[\u001b[0m\u001b[0mi\u001b[0m\u001b[1;33m]\u001b[0m\u001b[1;33m:\u001b[0m\u001b[1;33m\u001b[0m\u001b[1;33m\u001b[0m\u001b[0m\n\u001b[1;32m---> 15\u001b[1;33m             \u001b[0mword2\u001b[0m \u001b[1;33m=\u001b[0m \u001b[1;33m(\u001b[0m\u001b[0mword2\u001b[0m\u001b[1;33m[\u001b[0m\u001b[1;33m:\u001b[0m\u001b[0mi\u001b[0m\u001b[1;33m]\u001b[0m \u001b[1;33m+\u001b[0m \u001b[0mword\u001b[0m\u001b[1;33m[\u001b[0m\u001b[0mi\u001b[0m\u001b[1;33m]\u001b[0m \u001b[1;33m+\u001b[0m \u001b[0mword2\u001b[0m\u001b[1;33m[\u001b[0m\u001b[0mi\u001b[0m\u001b[1;33m+\u001b[0m\u001b[1;36m1\u001b[0m\u001b[1;33m:\u001b[0m\u001b[1;33m]\u001b[0m\u001b[1;33m)\u001b[0m\u001b[1;33m\u001b[0m\u001b[1;33m\u001b[0m\u001b[0m\n\u001b[0m\u001b[0;32m     16\u001b[0m             \u001b[0mk\u001b[0m \u001b[1;33m+=\u001b[0m \u001b[1;36m1\u001b[0m\u001b[1;33m\u001b[0m\u001b[1;33m\u001b[0m\u001b[0m\n\u001b[0;32m     17\u001b[0m             \u001b[0mtrueiter\u001b[0m \u001b[1;33m+=\u001b[0m \u001b[1;36m1\u001b[0m\u001b[1;33m\u001b[0m\u001b[1;33m\u001b[0m\u001b[0m\n",
      "\u001b[1;31mTypeError\u001b[0m: 'int' object is not subscriptable"
     ]
    }
   ],
   "source": [
    "import random\n",
    "\n",
    "list = [\"fly\",\"smile\",\"river\"]\n",
    "word = random.choice(list)\n",
    "\n",
    "word2 = len(word)\n",
    "\n",
    "trueiter = 0\n",
    "totaliter = 0\n",
    "k = 0\n",
    "while k < len(word):\n",
    "    letter = input(\"enter you guess letter\")\n",
    "    for i in range(len(word)):\n",
    "        if letter == word[i]:\n",
    "            word2 = (word2[:i] + word[i] + word2[i+1:])\n",
    "            k += 1\n",
    "            trueiter += 1 \n",
    "            print (word2)\n",
    "        else:\n",
    "            print(letter, \"is wrong\")\n",
    "            totaliter += 1\n",
    "\n",
    "print(\"you missed\", totaliter - trueiter, \"times\")"
   ]
  },
  {
   "cell_type": "code",
   "execution_count": null,
   "metadata": {},
   "outputs": [],
   "source": []
  }
 ],
 "metadata": {
  "kernelspec": {
   "display_name": "Python 3",
   "language": "python",
   "name": "python3"
  },
  "language_info": {
   "codemirror_mode": {
    "name": "ipython",
    "version": 3
   },
   "file_extension": ".py",
   "mimetype": "text/x-python",
   "name": "python",
   "nbconvert_exporter": "python",
   "pygments_lexer": "ipython3",
   "version": "3.7.6"
  }
 },
 "nbformat": 4,
 "nbformat_minor": 4
}
