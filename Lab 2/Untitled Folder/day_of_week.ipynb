{
 "cells": [
  {
   "cell_type": "code",
   "execution_count": 57,
   "metadata": {},
   "outputs": [
    {
     "name": "stdout",
     "output_type": "stream",
     "text": [
      "Enter the 4-digit year: 1992\n",
      "Enter the month as an integer: 5\n",
      "Enter the day as an integer: 8\n",
      "May 8, 1992 is a Friday\n"
     ]
    }
   ],
   "source": [
    "y = int(input(\"Enter the 4-digit year: \"))\n",
    "m = int(input(\"Enter the month as an integer: \"))\n",
    "d = int(input(\"Enter the day as an integer: \")) \n",
    "\n",
    "\n",
    "if m == 1 or m == 2:\n",
    "    y = y - 1\n",
    "    \n",
    "    \n",
    "y = str(y)\n",
    "\n",
    "p=y[2]+y[3]\n",
    "q=y[0]+y[1]\n",
    "\n",
    "\n",
    "r=((m+9)%12)+1\n",
    "s=((13*r)-1)//5\n",
    "t= int(p) // 4\n",
    "u= int(q) //4\n",
    "v= d + int(p) + s + t + u + (5*int(q))\n",
    "w=int(v%7)\n",
    "\n",
    "\n",
    "if w == 0:\n",
    "    day = \"Sunday\"\n",
    "elif w == 1:\n",
    "    day = \"Monday\"\n",
    "elif w == 2:\n",
    "    day = \"Tuesday\"\n",
    "elif w == 3:\n",
    "    day = \"Wednesday\"\n",
    "elif w == 4:\n",
    "    day = \"Thursday\"\n",
    "elif w == 5:\n",
    "    day = \"Friday\"\n",
    "elif w == 6:\n",
    "    day = \"Saturday\"\n",
    "    \n",
    "    \n",
    "if m == 1:\n",
    "    month = \"January\"\n",
    "elif m == 2:\n",
    "    month = \"Feburary\"\n",
    "elif m == 3:\n",
    "    month = \"March\"\n",
    "elif m == 4:\n",
    "    month = \"April\"\n",
    "elif m == 5:\n",
    "    month = \"May\"\n",
    "elif m == 6:\n",
    "    month = \"June\"\n",
    "elif m == 7:\n",
    "    month = \"July\"\n",
    "elif m == 8:\n",
    "    month = \"August\"\n",
    "elif m == 9:\n",
    "    month = \"September\"\n",
    "elif m == 10:\n",
    "    month = \"October\"\n",
    "elif m == 11:\n",
    "    month = \"November\"\n",
    "elif m == 12:\n",
    "    month = \"December\"\n",
    "    \n",
    "y = int(y)    \n",
    "if m == 1 or m == 2:\n",
    "    year = y + 1\n",
    "else:\n",
    "    year = y\n",
    "\n",
    "print(\"{} {}, {} is a {}\" .format(month, d, year, day))\n",
    "\n"
   ]
  }
 ],
 "metadata": {
  "kernelspec": {
   "display_name": "Python 3",
   "language": "python",
   "name": "python3"
  },
  "language_info": {
   "codemirror_mode": {
    "name": "ipython",
    "version": 3
   },
   "file_extension": ".py",
   "mimetype": "text/x-python",
   "name": "python",
   "nbconvert_exporter": "python",
   "pygments_lexer": "ipython3",
   "version": "3.7.6"
  }
 },
 "nbformat": 4,
 "nbformat_minor": 4
}
