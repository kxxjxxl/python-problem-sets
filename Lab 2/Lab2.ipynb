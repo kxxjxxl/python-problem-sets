{
 "cells": [
  {
   "cell_type": "code",
   "execution_count": 5,
   "metadata": {},
   "outputs": [
    {
     "name": "stdout",
     "output_type": "stream",
     "text": [
      "Please enter an integer value: 5\n",
      "** ***\n"
     ]
    }
   ],
   "source": [
    "#Given an integer input value, the following code should print approximately\n",
    "#half the number of asterisks of the given input value, plus 1, 2, 3 or 4\n",
    "#extra asterisks, depending on the value of b.\n",
    "b = int(input(\"Please enter an integer value: \"))\n",
    "a = b//2\n",
    "asterisk = \"*\"\n",
    "if b > 10:\n",
    "    print(asterisk * a + \" *\")\n",
    "elif b > 7:\n",
    "    print(asterisk * a + \" **\")\n",
    "elif b > 4:\n",
    "    print(asterisk * a + \" ***\")\n",
    "elif b > 1:\n",
    "    print(asterisk * a + \" ****\")"
   ]
  },
  {
   "cell_type": "code",
   "execution_count": 8,
   "metadata": {},
   "outputs": [
    {
     "name": "stdout",
     "output_type": "stream",
     "text": [
      "Please enter the previous distance covered by the athlete: 10\n",
      "Please enter the current distance covered by the athlete: 15\n",
      "Try\n",
      "to improve.\n"
     ]
    }
   ],
   "source": [
    "#This program tests if a runner has covered more distance since the \n",
    "#last time they ran.\n",
    "previousDist = float(input(\"Please enter the previous distance covered by the athlete: \"))\n",
    "currentDist = float(input(\"Please enter the current distance covered by the athlete: \"))\n",
    "improvement = currentDist - previousDist\n",
    "\n",
    "print(\"Try\", end=\" \")\n",
    "if  improvement <= 0:\n",
    "    print(\"harder\", end=\" \")                         \n",
    "print(\"to improve.\")        "
   ]
  },
  {
   "cell_type": "code",
   "execution_count": 1,
   "metadata": {},
   "outputs": [
    {
     "name": "stdout",
     "output_type": "stream",
     "text": [
      "Please enter the first integer number: 10\n",
      "Please enter the second integer number: 12\n",
      "Please enter the second integer number: 11\n",
      "The smallest number is:10\n"
     ]
    }
   ],
   "source": [
    "#This program finds and prints the smallest number.\n",
    "x = int(input(\"Please enter the first integer number: \"))\n",
    "y = int(input(\"Please enter the second integer number: \"))\n",
    "z = int(input(\"Please enter the second integer number: \"))\n",
    "\n",
    " \n",
    "if x<y and x<z:\n",
    "    print(\"The smallest number is:{}\" .format(x))\n",
    "elif y<x and y<z:\n",
    "    print(\"The smallest number is:{}\" .format(y))\n",
    "else:\n",
    "    print(\"The smallest number is:{}\" .format(z))\n",
    "    \n"
   ]
  },
  {
   "cell_type": "code",
   "execution_count": 4,
   "metadata": {},
   "outputs": [
    {
     "name": "stdout",
     "output_type": "stream",
     "text": [
      "Please enter your choice for rock (r), paper (p) or scissors (s): p\n",
      "Computer is paper. You are paper. Draw!\n"
     ]
    }
   ],
   "source": [
    "from random import randint\n",
    "\n",
    "#Generate the computer's move using the randint function \n",
    "#in the random module.\n",
    "#Assume 0 = rock, 1 = paper, and 2 = scissors.\n",
    "computerMove = randint(0,2)\n",
    "\n",
    "#Prompt the user to enter r for rock, p for paper or s for scissors.\n",
    "#Save the user's input in a variable called userMove.\n",
    "\n",
    "userMove=input(\"Please enter your choice for rock (r), paper (p) or scissors (s): \")\n",
    "\n",
    "\n",
    "#Validate the user's move.\n",
    "if (userMove =='r' or userMove == 'p' or userMove == 's'):\n",
    "    if computerMove == 0:\n",
    "        if computerMove == 0 and userMove == 'r':\n",
    "            print(\"Computer is rock. You are rock. Draw!\")\n",
    "        elif computerMove == 0 and userMove == 'p':\n",
    "            print(\"Computer is rock. You are paper. You win!\")\n",
    "        elif computerMove == 0 and userMove == 's':\n",
    "            print(\"Computer is rock. You are scissors. Computer wins!\")\n",
    "                \n",
    "    elif computerMove == 1:\n",
    "        if computerMove == 1 and userMove == 'r':\n",
    "            print(\"Computer is paper. You are rock. You lose!\")\n",
    "        elif computerMove == 1 and userMove == 'p':\n",
    "            print(\"Computer is paper. You are paper. Draw!\")\n",
    "        elif computerMove == 1 and userMove == 's':\n",
    "            print(\"Computer is paper. You are scissors. You win!\")\n",
    "\n",
    "    elif computerMove == 2:\n",
    "        if computerMove == 2 and userMove == 'r':\n",
    "            print(\"Computer is scissors. You are rock. You win!\")\n",
    "        elif computerMove == 2 and userMove == 'p':\n",
    "            print(\"Computer is scissors. You are paper. You lose!\")\n",
    "        elif computerMove == 2 and userMove == 's':\n",
    "            print(\"Computer is scissors. You are scissors. Draw!\")    \n",
    "else:\n",
    "    print(\"Please enter r, p or s\")\n",
    "    "
   ]
  },
  {
   "cell_type": "code",
   "execution_count": null,
   "metadata": {},
   "outputs": [],
   "source": []
  }
 ],
 "metadata": {
  "kernelspec": {
   "display_name": "Python 3",
   "language": "python",
   "name": "python3"
  },
  "language_info": {
   "codemirror_mode": {
    "name": "ipython",
    "version": 3
   },
   "file_extension": ".py",
   "mimetype": "text/x-python",
   "name": "python",
   "nbconvert_exporter": "python",
   "pygments_lexer": "ipython3",
   "version": "3.7.6"
  }
 },
 "nbformat": 4,
 "nbformat_minor": 4
}
