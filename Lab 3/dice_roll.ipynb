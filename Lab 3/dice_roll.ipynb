{
 "cells": [
  {
   "cell_type": "code",
   "execution_count": 1,
   "metadata": {},
   "outputs": [
    {
     "name": "stdout",
     "output_type": "stream",
     "text": [
      "How many times should we roll the dice?: 4\n"
     ]
    },
    {
     "ename": "NameError",
     "evalue": "name 'sumd' is not defined",
     "output_type": "error",
     "traceback": [
      "\u001b[1;31m---------------------------------------------------------------------------\u001b[0m",
      "\u001b[1;31mNameError\u001b[0m                                 Traceback (most recent call last)",
      "\u001b[1;32m<ipython-input-1-958bbfed557d>\u001b[0m in \u001b[0;36m<module>\u001b[1;34m\u001b[0m\n\u001b[0;32m     33\u001b[0m             \u001b[0mprint\u001b[0m\u001b[1;33m(\u001b[0m\u001b[1;34m\"An odd value was rolled {:.2f}% of the time.\"\u001b[0m \u001b[1;33m.\u001b[0m\u001b[0mformat\u001b[0m\u001b[1;33m(\u001b[0m\u001b[0modd_rolls\u001b[0m\u001b[1;33m)\u001b[0m\u001b[1;33m)\u001b[0m\u001b[1;33m\u001b[0m\u001b[1;33m\u001b[0m\u001b[0m\n\u001b[0;32m     34\u001b[0m \u001b[1;33m\u001b[0m\u001b[0m\n\u001b[1;32m---> 35\u001b[1;33m \u001b[0mmain\u001b[0m\u001b[1;33m(\u001b[0m\u001b[1;33m)\u001b[0m\u001b[1;33m\u001b[0m\u001b[1;33m\u001b[0m\u001b[0m\n\u001b[0m\u001b[0;32m     36\u001b[0m \u001b[1;33m\u001b[0m\u001b[0m\n\u001b[0;32m     37\u001b[0m \u001b[1;33m\u001b[0m\u001b[0m\n",
      "\u001b[1;32m<ipython-input-1-958bbfed557d>\u001b[0m in \u001b[0;36mmain\u001b[1;34m()\u001b[0m\n\u001b[0;32m      4\u001b[0m     \u001b[1;32mfor\u001b[0m \u001b[0mt\u001b[0m \u001b[1;32min\u001b[0m \u001b[0mrange\u001b[0m\u001b[1;33m(\u001b[0m\u001b[0mdice_rolls\u001b[0m\u001b[1;33m)\u001b[0m\u001b[1;33m:\u001b[0m\u001b[1;33m\u001b[0m\u001b[1;33m\u001b[0m\u001b[0m\n\u001b[0;32m      5\u001b[0m         \u001b[0mroll_dice\u001b[0m\u001b[1;33m(\u001b[0m\u001b[1;33m)\u001b[0m\u001b[1;33m\u001b[0m\u001b[1;33m\u001b[0m\u001b[0m\n\u001b[1;32m----> 6\u001b[1;33m     \u001b[0mdice_check\u001b[0m\u001b[1;33m(\u001b[0m\u001b[0msumd\u001b[0m\u001b[1;33m,\u001b[0m \u001b[0mdice_rolls\u001b[0m\u001b[1;33m)\u001b[0m\u001b[1;33m\u001b[0m\u001b[1;33m\u001b[0m\u001b[0m\n\u001b[0m\u001b[0;32m      7\u001b[0m     \u001b[0mprint_eando\u001b[0m\u001b[1;33m(\u001b[0m\u001b[0meven_rolls\u001b[0m\u001b[1;33m,\u001b[0m \u001b[0modd_rolls\u001b[0m\u001b[1;33m)\u001b[0m\u001b[1;33m\u001b[0m\u001b[1;33m\u001b[0m\u001b[0m\n\u001b[0;32m      8\u001b[0m \u001b[1;33m\u001b[0m\u001b[0m\n",
      "\u001b[1;31mNameError\u001b[0m: name 'sumd' is not defined"
     ]
    }
   ],
   "source": [
    "from random import randint\n",
    "def main():\n",
    "    dice_rolls = int(input(\"How many times should we roll the dice?: \"))\n",
    "    for t in range(dice_rolls):\n",
    "        roll_dice()\n",
    "    dice_check(sumd, dice_rolls)\n",
    "    print_eando(even_rolls, odd_rolls)\n",
    "       \n",
    "def roll_dice():\n",
    "    dice_a = randint(1,6)\n",
    "    dice_b = randint(1,6)\n",
    "    result = dice_a + dice_b\n",
    "    print(\"You rolled {} + {} = {}\" .format(dice_a,  dice_b, result ))\n",
    "\n",
    "    \n",
    "        \n",
    "def dice_check(sumd, dice_rolls):\n",
    "    even = 0\n",
    "    odd = 0\n",
    "    x = 0\n",
    "    while x < dice_rolls:\n",
    "        if sumd % 2 == 0:\n",
    "            even += 1\n",
    "            x += 1\n",
    "            even_rolls = (even/dice_rolls) * 100\n",
    "            print(\"An even value was rolled {:.2f}% of the time.\" .format(even_rolls))\n",
    "            \n",
    "        elif sumd % 2 == 1:\n",
    "            x =+ 1\n",
    "            odd += 1\n",
    "            odd_rolls = (odd/dice_rolls) * 100\n",
    "            print(\"An odd value was rolled {:.2f}% of the time.\" .format(odd_rolls))\n",
    "    \n",
    "main()\n",
    "        \n",
    "        "
   ]
  },
  {
   "cell_type": "code",
   "execution_count": 8,
   "metadata": {},
   "outputs": [
    {
     "name": "stdout",
     "output_type": "stream",
     "text": [
      "How many times should we roll the dice?: 11\n",
      "You rolled 3 + 1 = 4\n",
      "You rolled 2 + 3 = 5\n",
      "You rolled 1 + 4 = 5\n",
      "You rolled 4 + 6 = 10\n",
      "You rolled 5 + 1 = 6\n",
      "You rolled 2 + 1 = 3\n",
      "You rolled 1 + 3 = 4\n",
      "You rolled 5 + 4 = 9\n",
      "You rolled 3 + 2 = 5\n",
      "You rolled 1 + 6 = 7\n",
      "You rolled 5 + 6 = 11\n",
      "An even value was rolled 36.36% of the time.\n",
      "An odd value was rolled 63.64% of the time.\n"
     ]
    }
   ],
   "source": [
    "from random import *\n",
    "dice_rolls = int(input(\"How many times should we roll the dice?: \"))\n",
    "even = 0\n",
    "odd = 0\n",
    "for t in range(dice_rolls):\n",
    "    dice_a = randint(1,6)\n",
    "    dice_b = randint(1,6)\n",
    "    result = dice_a + dice_b\n",
    "    \n",
    "    if result % 2 == 0:\n",
    "        even += 1\n",
    "        even_rolls = (even/dice_rolls) * 100\n",
    "    else:\n",
    "        odd += 1\n",
    "        odd_rolls = (odd/dice_rolls) * 100\n",
    "   \n",
    "\n",
    "     \n",
    "    print(\"You rolled {} + {} = {}\" .format(dice_a,  dice_b, result ))\n",
    "    \n",
    "    \n",
    "print(\"An even value was rolled {:.2f}% of the time.\" .format(even_rolls))\n",
    "print(\"An odd value was rolled {:.2f}% of the time.\" .format(odd_rolls))\n",
    "              \n",
    "    \n",
    "        \n",
    "\n",
    "        \n",
    "     "
   ]
  },
  {
   "cell_type": "code",
   "execution_count": null,
   "metadata": {},
   "outputs": [],
   "source": []
  }
 ],
 "metadata": {
  "kernelspec": {
   "display_name": "Python 3",
   "language": "python",
   "name": "python3"
  },
  "language_info": {
   "codemirror_mode": {
    "name": "ipython",
    "version": 3
   },
   "file_extension": ".py",
   "mimetype": "text/x-python",
   "name": "python",
   "nbconvert_exporter": "python",
   "pygments_lexer": "ipython3",
   "version": "3.7.6"
  }
 },
 "nbformat": 4,
 "nbformat_minor": 4
}
