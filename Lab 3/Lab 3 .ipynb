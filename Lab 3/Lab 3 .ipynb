{
 "cells": [
  {
   "cell_type": "code",
   "execution_count": 5,
   "metadata": {},
   "outputs": [
    {
     "name": "stdout",
     "output_type": "stream",
     "text": [
      "1 10 100 1000 10000 \n"
     ]
    }
   ],
   "source": [
    "decimals = 1\n",
    "while decimals <= 10000:\n",
    "    print(decimals, end=\" \")\n",
    "    decimals *=10\n",
    "print()"
   ]
  },
  {
   "cell_type": "code",
   "execution_count": 1,
   "metadata": {},
   "outputs": [
    {
     "name": "stdout",
     "output_type": "stream",
     "text": [
      "Enter marble colour as r (red) or g (green), b to end: r\n",
      "Enter marble colour as r (red) or g (green), b to end: g\n",
      "Enter marble colour as r (red) or g (green), b to end: r\n",
      "Enter marble colour as r (red) or g (green), b to end: g\n",
      "Enter marble colour as r (red) or g (green), b to end: b\n",
      "Number of red marbles in the bag: 2\n",
      "Number of green marbles in the bag: 2\n",
      "The percentage of red marbles is: 50.0\n",
      "The percentage of red marbles is: 50.0\n"
     ]
    }
   ],
   "source": [
    "#Initalize the counters to keep track of the red and green marbles.\n",
    "red = 0\n",
    "green = 0 \n",
    "total = 0\n",
    "\n",
    "\n",
    "#Get a value for the variable colour as \"r\" for red or \"g\" for green.\n",
    "#This will be the loop control variable (lcv).\n",
    "marble = input(\"Enter marble colour as r (red) or g (green), b to end: \")\n",
    "\n",
    "while marble != 'b':\n",
    "    if marble == 'r':\n",
    "        red +=1\n",
    "        total += 1\n",
    "        \n",
    "    elif marble =='g':\n",
    "        green += 1\n",
    "        total += 1\n",
    "        \n",
    "    marble = input(\"Enter marble colour as r (red) or g (green), b to end: \")\n",
    "    \n",
    "print(\"Number of red marbles in the bag: {}\" .format(red))\n",
    "print(\"Number of green marbles in the bag: {}\" .format(green))\n",
    "\n",
    "red_perc = (red/total)*100\n",
    "green_perc =(green/total)*100\n",
    "print(\"The percentage of red marbles is: {}\" .format(red_perc))\n",
    "print(\"The percentage of red marbles is: {}\" .format(green_perc))"
   ]
  },
  {
   "cell_type": "code",
   "execution_count": null,
   "metadata": {},
   "outputs": [],
   "source": [
    "#Find the GCD for 72 and 54.\n",
    "#Initialize the two variables with each of the numbers.\n",
    "val1 = 72\n",
    "val2 = 54\n",
    "\n",
    "#Continue looping until one of the integers becomes zero.\n",
    "while val1 != 0 and val2 != 0:\n",
    "    #Replace the larger integer with the computed difference of \n",
    "    #the two given values.\n",
    "    if val1 > val2:\n",
    "        val1 = val1 - val2\n",
    "    else:\n",
    "        val2 = val2 - val1\n",
    "\n",
    "#Print out the non-zero integer.\n",
    "if val1 > 0:\n",
    "    print(val1,\"is the GCD\")\n",
    "else:\n",
    "    print(val2,\"is the GCD\")\n",
    "    "
   ]
  },
  {
   "cell_type": "code",
   "execution_count": 7,
   "metadata": {},
   "outputs": [
    {
     "name": "stdout",
     "output_type": "stream",
     "text": [
      "Enter the number of steps the ballerina takes: 3\n",
      "\n",
      "Step: 1 Twirl: 1\n",
      "Step: 1 Twirl: 2\n",
      "Step: 1 Twirl: 3\n",
      "Step: 1 Twirl: 4\n",
      "Step: 1 Twirl: 5\n",
      "\n",
      "Step: 2 Twirl: 1\n",
      "Step: 2 Twirl: 2\n",
      "Step: 2 Twirl: 3\n",
      "Step: 2 Twirl: 4\n",
      "Step: 2 Twirl: 5\n",
      "\n",
      "Step: 3 Twirl: 1\n",
      "Step: 3 Twirl: 2\n",
      "Step: 3 Twirl: 3\n",
      "Step: 3 Twirl: 4\n",
      "Step: 3 Twirl: 5\n"
     ]
    }
   ],
   "source": [
    "#With each step forward that a ballerina takes, she twirls 5 times.\n",
    "#Obtain the number of steps the ballerina takes forward as input.\n",
    "steps = int(input(\"Enter the number of steps the ballerina takes: \"))\n",
    "\n",
    "#Number of twirls is a constant.\n",
    "TWIRLS = 5\n",
    "\n",
    "#Write the outer for loop to keep track of the steps.\n",
    "for i in range(1,steps+1):\n",
    "    print(\"\")\n",
    "    for j in range(1, TWIRLS+1):\n",
    "        print(\"Step: {} Twirl: {}\" .format(i,j))\n",
    "        \n",
    "    \n",
    "\n",
    "\n",
    "\n",
    "\n",
    "   "
   ]
  },
  {
   "cell_type": "code",
   "execution_count": null,
   "metadata": {},
   "outputs": [],
   "source": []
  }
 ],
 "metadata": {
  "kernelspec": {
   "display_name": "Python 3",
   "language": "python",
   "name": "python3"
  },
  "language_info": {
   "codemirror_mode": {
    "name": "ipython",
    "version": 3
   },
   "file_extension": ".py",
   "mimetype": "text/x-python",
   "name": "python",
   "nbconvert_exporter": "python",
   "pygments_lexer": "ipython3",
   "version": "3.7.6"
  }
 },
 "nbformat": 4,
 "nbformat_minor": 4
}
