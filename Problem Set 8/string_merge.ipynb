{
 "cells": [
  {
   "cell_type": "code",
   "execution_count": 6,
   "metadata": {},
   "outputs": [
    {
     "name": "stdout",
     "output_type": "stream",
     "text": [
      "Enter the first ordered string: acdrt\n",
      "Enter the second ordered string: bdet\n",
      "First string: acdrt\n",
      "Second string: bdet\n",
      "Result of recursive function: abcddertt\n",
      "Result of non-recursive function: abcddertt\n"
     ]
    }
   ],
   "source": [
    "def mergeRecursive(a,b):\n",
    "    # if both strings have some value\n",
    "    if len(a)>0 and len(b)>0:\n",
    "        if a[0] <= b[0]:\n",
    "            return a[0] + mergeRecursive(a[1:], b)\n",
    "        else:\n",
    "            return b[0] + mergeRecursive(a,b[1:])\n",
    "   #for empty strings\n",
    "    else:\n",
    "        #a is not empty\n",
    "        if len(a)>0:\n",
    "            return a\n",
    "        #b is not empty\n",
    "        elif len(b)>0:\n",
    "            return b\n",
    "       #both a and b are empty\n",
    "        else:\n",
    "            return \"\"\n",
    "def orderedMerge(a,b):\n",
    "    i=0\n",
    "    j=0\n",
    "    output = \"\"\n",
    "    #to merge the strings\n",
    "    while i<len(a) and j<len(b):\n",
    "        if a[i]<b[j]:\n",
    "            output+=a[i]\n",
    "            i=i+1\n",
    "        else:\n",
    "            output+=b[j]\n",
    "            j=j+1\n",
    "\n",
    "    while i<len(a):\n",
    "        output+=a[i]\n",
    "        i=i+1\n",
    "        \n",
    "    while j<len(b):\n",
    "        output+=b[j]\n",
    "        j=j+1\n",
    "    return output\n",
    "\n",
    "def main():\n",
    "    a = input(\"Enter the first ordered string: \")\n",
    "    b = input(\"Enter the second ordered string: \")\n",
    "    print(\"First string: \" + a)\n",
    "    print(\"Second string: \" + b)\n",
    "    print(\"Result of recursive function: \" + mergeRecursive(a,b))\n",
    "    print(\"Result of non-recursive function: \" + orderedMerge(a,b))\n",
    "\n",
    "main()"
   ]
  },
  {
   "cell_type": "code",
   "execution_count": null,
   "metadata": {},
   "outputs": [],
   "source": []
  }
 ],
 "metadata": {
  "kernelspec": {
   "display_name": "Python 3",
   "language": "python",
   "name": "python3"
  },
  "language_info": {
   "codemirror_mode": {
    "name": "ipython",
    "version": 3
   },
   "file_extension": ".py",
   "mimetype": "text/x-python",
   "name": "python",
   "nbconvert_exporter": "python",
   "pygments_lexer": "ipython3",
   "version": "3.7.6"
  }
 },
 "nbformat": 4,
 "nbformat_minor": 4
}
