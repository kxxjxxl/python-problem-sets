{
 "cells": [
  {
   "cell_type": "code",
   "execution_count": 1,
   "metadata": {},
   "outputs": [
    {
     "name": "stdout",
     "output_type": "stream",
     "text": [
      "Please enter the word:apple\n",
      "The original word is:apple\n",
      "The word without consonants:a???e\n",
      "The number of consonants in the word are:3\n",
      "Please enter the word:apple\n",
      "The original word is:apple\n",
      "The word without consonants:a???e\n",
      "The number of consonants in the word are:3\n",
      "Please enter the word:grape\n",
      "The original word is:grape\n",
      "The word without consonants:??a?e\n",
      "The number of consonants in the word are:3\n",
      "Please enter the word:zzz\n"
     ]
    }
   ],
   "source": [
    "\n",
    "vowels = (\"a\", \"e\", \"i\", \"o\", \"u\")\n",
    "word = input(\"Please enter the word:\")\n",
    "new_word = \"\"\n",
    "count = 0\n",
    "end = \"zzz\" \n",
    "while word != end:\n",
    "    for letters in word:\n",
    "        if letters not in vowels:\n",
    "            new_word += \"?\"\n",
    "            count += 1\n",
    "        elif letters in vowels:\n",
    "            new_word += letters\n",
    "\n",
    "            \n",
    "    print(\"The original word is:{}\" .format(word))\n",
    "    print(\"The word without consonants:{}\" .format (new_word))\n",
    "    print(\"The number of consonants in the word are:{}\" .format(count))\n",
    "    new_word = \"\"\n",
    "    count = 0\n",
    "    word = input(\"Please enter the word:\")\n",
    "\n",
    "\n",
    "    "
   ]
  },
  {
   "cell_type": "code",
   "execution_count": null,
   "metadata": {},
   "outputs": [],
   "source": [
    "def Constants(lst):\n",
    "        constants = []\n",
    "        vowels = []\n",
    "        for elems in list: \n",
    "            if letters not in vowels\n",
    "               constants.append(letters)\n",
    "            return constants\n",
    "           elif letters in vowels:\n",
    "                vowels.append(letters)\n",
    "            return vowels\n",
    "        \n",
    "def main():\n",
    "    \n"
   ]
  }
 ],
 "metadata": {
  "kernelspec": {
   "display_name": "Python 3",
   "language": "python",
   "name": "python3"
  },
  "language_info": {
   "codemirror_mode": {
    "name": "ipython",
    "version": 3
   },
   "file_extension": ".py",
   "mimetype": "text/x-python",
   "name": "python",
   "nbconvert_exporter": "python",
   "pygments_lexer": "ipython3",
   "version": "3.7.6"
  }
 },
 "nbformat": 4,
 "nbformat_minor": 4
}
