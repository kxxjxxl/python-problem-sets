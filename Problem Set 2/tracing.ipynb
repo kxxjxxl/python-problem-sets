{
 "cells": [
  {
   "cell_type": "code",
   "execution_count": 6,
   "metadata": {},
   "outputs": [
    {
     "name": "stdout",
     "output_type": "stream",
     "text": [
      "Enter the input value: 7\n",
      "Enter the input value: 1\n",
      "Enter the input value: 2\n",
      "Enter the input value: 5\n",
      "Enter the input value: 6\n",
      "Value of c is  2\n",
      "Value of d is  3\n"
     ]
    }
   ],
   "source": [
    "LIMIT = 5\n",
    "c = 0\n",
    "d = 0\n",
    "for x in range(1, LIMIT+1):                        \n",
    "    isThis = int(input(\"Enter the input value: \")) \n",
    "    if isThis > LIMIT:\n",
    "        c += 1\n",
    "    else:\n",
    "        d += 1\n",
    "print(\"Value of c is \", c)                        \n",
    "print(\"Value of d is \", d)"
   ]
  },
  {
   "cell_type": "code",
   "execution_count": 1,
   "metadata": {},
   "outputs": [
    {
     "name": "stdout",
     "output_type": "stream",
     "text": [
      "Enter the input value: 7\n",
      "Enter the input value: 1\n",
      "Enter the input value: 2\n",
      "Enter the input value: 5\n",
      "Enter the input value: 6\n",
      "Value of c is  2\n",
      "Value of d is  3\n"
     ]
    }
   ],
   "source": [
    "LIMIT = 5\n",
    "c = 0\n",
    "d = 0\n",
    "x = 1 \n",
    "while x < LIMIT + 1:                        \n",
    "    isThis = int(input(\"Enter the input value: \"))\n",
    "    \n",
    "    if isThis > LIMIT:\n",
    "        c += 1\n",
    "    else:\n",
    "        d += 1\n",
    "    x+=1\n",
    "        \n",
    "print(\"Value of c is \", c)                        \n",
    "print(\"Value of d is \", d)"
   ]
  },
  {
   "cell_type": "markdown",
   "metadata": {},
   "source": [
    "### "
   ]
  }
 ],
 "metadata": {
  "kernelspec": {
   "display_name": "Python 3",
   "language": "python",
   "name": "python3"
  },
  "language_info": {
   "codemirror_mode": {
    "name": "ipython",
    "version": 3
   },
   "file_extension": ".py",
   "mimetype": "text/x-python",
   "name": "python",
   "nbconvert_exporter": "python",
   "pygments_lexer": "ipython3",
   "version": "3.7.6"
  }
 },
 "nbformat": 4,
 "nbformat_minor": 4
}
