{
 "cells": [
  {
   "cell_type": "code",
   "execution_count": 4,
   "metadata": {},
   "outputs": [
    {
     "name": "stdout",
     "output_type": "stream",
     "text": [
      "Enter the input of plan you want from Low, Regular or High: High\n",
      "Enter your status, Single or Family:Family\n",
      "Do you have a child, Yes or No?: No\n",
      "Your cost will be $99.45\n"
     ]
    }
   ],
   "source": [
    "#Asking the input for the level of the plan\n",
    "level_of_plan    = input(\"Enter the input of plan you want from Low, Regular or High: \")\n",
    "\n",
    "#These are all the set prices for all the levels, types of coverage and status\n",
    "price_low_single = \"$36.25\"\n",
    "price_regular_single = \"$48.90\"\n",
    "price_high_single = \"$69.80\"\n",
    "\n",
    "price_low_family_with_children = \"$98.35\"\n",
    "price_regular_family_with_children = \"$136.75\"\n",
    "price_high_family_with_children = \"$174.55\"\n",
    "\n",
    "price_low_family_with_no_children = \"$56.50\"\n",
    "price_regular_family_with_no_children = \"$74.70\"\n",
    "price_high_family_with_no_children = \"$99.45\"\n",
    "\n",
    "\n",
    "#IF the level is low\n",
    "if level_of_plan == \"Low\":\n",
    "    status = input(\"Enter your status, Single or Family:\")    #Asking the input for either single or family\n",
    "    if status == \"Single\":\n",
    "        print(\"Your cost is {}\" .format(price_low_single))   #Printing output if the person is single\n",
    "    else:\n",
    "        child_nochild = input(\"Do you have a child, Yes or No?: \")   #Asking the input if the person has children or not\n",
    "        if child_nochild == 'Yes':\n",
    "            print(\"Your cost will be {}\" .format(price_low_family_with_children))  #Printing the output if has children\n",
    "        else:\n",
    "            print(\"Your cost will be {}\" .format(price_low_family_with_no_children)) #Printing the output if no children\n",
    "            \n",
    "#IF the level is MEdium           \n",
    "if level_of_plan == \"Regular\":\n",
    "    status = input(\"Enter your status, Single or Family:\")  #Asking the input for either single or family\n",
    "    if status == \"Single\":\n",
    "        print(\"Your cost is {}\" .format(price_regular_single))  #Printing output if the person is single\n",
    "    else:\n",
    "        child_nochild = input(\"Do you have a child, Yes or No?: \") #Asking the input if the person has children or not\n",
    "        if child_nochild == 'Yes':\n",
    "            print(\"Your cost will be {}\" .format(price_regular_family_with_children) ) #Printing the output if has children\n",
    "        else:\n",
    "            print(\"Your cost will be {}\" .format(price_regular_family_with_no_children))  #Printing the output if no children\n",
    "            \n",
    "            \n",
    "#IF the level is High            \n",
    "if level_of_plan == \"High\":\n",
    "    status = input(\"Enter your status, Single or Family:\")  #Asking the input for either single or family\n",
    "    if status == \"Single\":\n",
    "        print(\"Your cost is {}\" .format(price_high_single)) #Printing output if the person is single\n",
    "    else:\n",
    "        child_nochild = input(\"Do you have a child, Yes or No?: \")  #Asking the input if the person has children or not\n",
    "        if child_nochild == 'Yes':\n",
    "            print(\"Your cost will be {}\" .format(price_high_family_with_children)) #Printing the output if has children\n",
    "        else:\n",
    "            print(\"Your cost will be {}\" .format(price_high_family_with_no_children))  #Printing the output if no children\n",
    "            "
   ]
  },
  {
   "cell_type": "code",
   "execution_count": null,
   "metadata": {},
   "outputs": [],
   "source": []
  }
 ],
 "metadata": {
  "kernelspec": {
   "display_name": "Python 3",
   "language": "python",
   "name": "python3"
  },
  "language_info": {
   "codemirror_mode": {
    "name": "ipython",
    "version": 3
   },
   "file_extension": ".py",
   "mimetype": "text/x-python",
   "name": "python",
   "nbconvert_exporter": "python",
   "pygments_lexer": "ipython3",
   "version": "3.7.6"
  }
 },
 "nbformat": 4,
 "nbformat_minor": 4
}
