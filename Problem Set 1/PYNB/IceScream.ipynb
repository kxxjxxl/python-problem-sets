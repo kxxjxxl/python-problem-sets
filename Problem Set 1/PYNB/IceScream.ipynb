{
 "cells": [
  {
   "cell_type": "code",
   "execution_count": 1,
   "metadata": {},
   "outputs": [
    {
     "name": "stdout",
     "output_type": "stream",
     "text": [
      "Enter the number of bars ordered in June: 400\n",
      "Enter the name of bars ordered in July: 200\n",
      "Enter the name of bars ordered in August: 120\n",
      "Number of small boxes 72\n",
      "Number of large boxes 18\n",
      "Selling Price Per Small Box $6.47\n",
      "Selling Price Per Small Box $24.5\n"
     ]
    }
   ],
   "source": [
    "#Take the input of all the ice cream bars\n",
    "\n",
    "june = int(input(\"Enter the number of bars ordered in June: \"))\n",
    "july = int(input(\"Enter the name of bars ordered in July: \"))\n",
    "august = int(input(\"Enter the name of bars ordered in August: \"))\n",
    "\n",
    "\n",
    "sum_of_bars = june + july + august   #Add all the bars \n",
    "bars_half = sum_of_bars/2            #Half the sum of the bar\n",
    "\n",
    "small_boxes = round(bars_half/5)     #Number of bars per small box\n",
    "large_boxes = round(bars_half/20)    #Number of bars per large box\n",
    " \n",
    "#Output of the Small & Large boxes \n",
    "print(\"Number of small boxes {}\" .format(small_boxes))\n",
    "print(\"Number of large boxes {}\".format(large_boxes))\n",
    "\n",
    "#Percentage Markup of 90% for small boxes\n",
    "percentage_markup_june_small = ((90/100)*0.50) + 0.50 \n",
    "percentage_markup_july_small = ((90/100)*1.00) + 1.00\n",
    "percentage_markup_august_small = ((90/100)*0.75) + 0.75\n",
    "\n",
    "#Calculating all the marked up price of the small boxes\n",
    "small_price_june = june * percentage_markup_june_small\n",
    "small_price_july = july * percentage_markup_july_small\n",
    "small_price_august= august * percentage_markup_august_small\n",
    "\n",
    "small_box_price = small_price_june + small_price_july + small_price_august #Adding the marked up prices\n",
    "selling_price = (small_box_price/sum_of_bars)*5 #Calculation to find the Selling price of the Small box\n",
    "selling_price_final_small = round(selling_price, 2) #Getting the Selling Price for the Small box\n",
    "\n",
    "#Output of Selling prices per small box\n",
    "print(\"Selling Price Per Small Box ${}\" .format(selling_price_final_small))\n",
    "\n",
    "\n",
    "#Percentage Markup of 80% for big boxes\n",
    "percentage_markup_june_large = ((80/100)*0.50) + 0.50 \n",
    "percentage_markup_july_large = ((80/100)*1.00) + 1.00\n",
    "percentage_markup_august_large = ((80/100)*0.75) + 0.75\n",
    "\n",
    "#Calculating all the marked up price of the large boxes\n",
    "large_price_june = june * percentage_markup_june_large  \n",
    "large_price_july = july * percentage_markup_july_large\n",
    "large_price_august= august * percentage_markup_august_large\n",
    "\n",
    "\n",
    "large_box_price = large_price_june + large_price_july + large_price_august #Adding the marked up prices \n",
    "selling_price = (large_box_price/sum_of_bars)*20 #Calculation to find the Selling price of the large box\n",
    "selling_price_final_large = round(selling_price, 2) #Getting the Selling Price for the large box\n",
    "\n",
    "#Output of Selling price per large box\n",
    "print(\"Selling Price Per Small Box ${}\" .format(selling_price_final_large))\n",
    "\n"
   ]
  },
  {
   "cell_type": "code",
   "execution_count": null,
   "metadata": {},
   "outputs": [],
   "source": []
  }
 ],
 "metadata": {
  "kernelspec": {
   "display_name": "Python 3",
   "language": "python",
   "name": "python3"
  },
  "language_info": {
   "codemirror_mode": {
    "name": "ipython",
    "version": 3
   },
   "file_extension": ".py",
   "mimetype": "text/x-python",
   "name": "python",
   "nbconvert_exporter": "python",
   "pygments_lexer": "ipython3",
   "version": "3.7.6"
  }
 },
 "nbformat": 4,
 "nbformat_minor": 4
}
