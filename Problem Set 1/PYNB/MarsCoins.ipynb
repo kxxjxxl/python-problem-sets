{
 "cells": [
  {
   "cell_type": "code",
   "execution_count": 34,
   "metadata": {},
   "outputs": [
    {
     "name": "stdout",
     "output_type": "stream",
     "text": [
      "Please enter the number of Maruvian: 10\n",
      "Please enter the number of Caruvian: 6\n",
      "Please enter the number of Taruvian: 12\n",
      "Please enter the number of Paruvians: 25\n",
      "Number of friends you have: 2\n",
      "Marvin has 17 Maruvians in total\n",
      "Marvin then takes 6 Maruvian(s) for himself and gives 6 Maruvian(s) to his friends each\n",
      "Marvin then puts the remaining 5.0 Maruvian(s) and 25 Paruvian(s) back in the jar \n"
     ]
    }
   ],
   "source": [
    "#First take the input of all the currencies avalible and convert them to Maruvian \n",
    "\n",
    "m = int(input('Please enter the number of Maruvian: '))  #m = Maruvian\n",
    "c = int(input('Please enter the number of Caruvian: '))  #c = Caruvian            \n",
    "t = int(input('Please enter the number of Taruvian: '))  #t = Taruvian\n",
    "p = int(input('Please enter the number of Paruvians: ')) #p = Paruvian\n",
    "friend = int(input('Number of friends you have: '))\n",
    "\n",
    "CtoM = (c*12)/24  #The way to convert Caruvian to Maruvian is to multiply Caruvian by 12 and then divide it by 24\n",
    "TtoM = (t*6)/24   #The way to convert Taruvian to Maruvian is to multiply Taruvian by 6 and then divide it by 24\n",
    "PtoM = (p//24)    #The way to convert Taruvian to Maruvian is to floor divide it by 24\n",
    "\n",
    "total_m = m + CtoM + TtoM + PtoM\n",
    "total_mR = round(total_m) #This is to round it off to whole number\n",
    "\n",
    "#Output for the total Maruvians converted\n",
    "print(\"Marvin has {} Maruvians in total\" .format(total_mR))\n",
    "      \n",
    "friends = total_m/(friend+1)  #Using floor division to equally seprate the Maruvian between each friend\n",
    "friends_r = round(friends)    #This is to round it off to whole number\n",
    "\n",
    "#Output for how much Maruvian each friend gets\n",
    "print(\"Marvin then takes {} Maruvian(s) for himself and gives {} Maruvian(s) to his friends each\" .format(friends_r, friends_r))\n",
    "\n",
    "jar = total_m%friends_r #Using Mod to find the remainder of the Maruvian that goes into the jar\n",
    "pR = round(p)           #This is to round it off to whole number  \n",
    "\n",
    "#Output for the remaining Maruvians that goes back into the jar\n",
    "print(\"Marvin then puts the remaining {} Maruvian(s) and {} Paruvian(s) back in the jar \" .format(jar, pR))\n"
   ]
  },
  {
   "cell_type": "code",
   "execution_count": 26,
   "metadata": {},
   "outputs": [
    {
     "name": "stdout",
     "output_type": "stream",
     "text": [
      "21.25\n"
     ]
    }
   ],
   "source": [
    "print(total_m)"
   ]
  },
  {
   "cell_type": "code",
   "execution_count": 27,
   "metadata": {},
   "outputs": [
    {
     "data": {
      "text/plain": [
       "0"
      ]
     },
     "execution_count": 27,
     "metadata": {},
     "output_type": "execute_result"
    }
   ],
   "source": [
    "23//24"
   ]
  },
  {
   "cell_type": "code",
   "execution_count": 30,
   "metadata": {},
   "outputs": [
    {
     "data": {
      "text/plain": [
       "0"
      ]
     },
     "execution_count": 30,
     "metadata": {},
     "output_type": "execute_result"
    }
   ],
   "source": [
    "2//24"
   ]
  },
  {
   "cell_type": "code",
   "execution_count": 31,
   "metadata": {},
   "outputs": [
    {
     "data": {
      "text/plain": [
       "1"
      ]
     },
     "execution_count": 31,
     "metadata": {},
     "output_type": "execute_result"
    }
   ],
   "source": [
    "25//24"
   ]
  },
  {
   "cell_type": "code",
   "execution_count": null,
   "metadata": {},
   "outputs": [],
   "source": []
  }
 ],
 "metadata": {
  "kernelspec": {
   "display_name": "Python 3",
   "language": "python",
   "name": "python3"
  },
  "language_info": {
   "codemirror_mode": {
    "name": "ipython",
    "version": 3
   },
   "file_extension": ".py",
   "mimetype": "text/x-python",
   "name": "python",
   "nbconvert_exporter": "python",
   "pygments_lexer": "ipython3",
   "version": "3.7.6"
  }
 },
 "nbformat": 4,
 "nbformat_minor": 4
}
