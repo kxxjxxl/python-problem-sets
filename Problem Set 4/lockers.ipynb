{
 "cells": [
  {
   "cell_type": "code",
   "execution_count": 23,
   "metadata": {},
   "outputs": [
    {
     "name": "stdout",
     "output_type": "stream",
     "text": [
      "The lockers are opened at positions: [1, 4, 9, 16, 25, 36, 49, 64, 81, 100]\n"
     ]
    }
   ],
   "source": [
    "number_of_lockers = 100\n",
    "lockers = [False] * number_of_lockers # False is closed, True is open\n",
    "\n",
    "\n",
    "for student_number in range(1,number_of_lockers+1):\n",
    "    for locker_number in range(0,number_of_lockers):\n",
    "        if (locker_number+1) % student_number == 0: # if the locker number is exactly divisible by student number\n",
    "            lockers[locker_number] = not lockers[locker_number] # flip 0 to 1 and vice versa\n",
    "            \n",
    "\n",
    "opened = []\n",
    "count = 1\n",
    "for x in lockers:\n",
    "    if x == True:\n",
    "        opened.append(count)\n",
    "        count += 1\n",
    "    else:\n",
    "        count += 1\n",
    "        \n",
    "print(\"The lockers are opened at positions: {}\" .format(opened))"
   ]
  },
  {
   "cell_type": "code",
   "execution_count": null,
   "metadata": {},
   "outputs": [],
   "source": []
  }
 ],
 "metadata": {
  "kernelspec": {
   "display_name": "Python 3",
   "language": "python",
   "name": "python3"
  },
  "language_info": {
   "codemirror_mode": {
    "name": "ipython",
    "version": 3
   },
   "file_extension": ".py",
   "mimetype": "text/x-python",
   "name": "python",
   "nbconvert_exporter": "python",
   "pygments_lexer": "ipython3",
   "version": "3.7.6"
  }
 },
 "nbformat": 4,
 "nbformat_minor": 4
}
